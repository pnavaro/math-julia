{
 "cells": [
  {
   "cell_type": "code",
   "execution_count": 1,
   "id": "ebb0f2b1",
   "metadata": {},
   "outputs": [],
   "source": [
    "using BenchmarkTools"
   ]
  },
  {
   "cell_type": "code",
   "execution_count": 2,
   "id": "e32c9c20",
   "metadata": {},
   "outputs": [
    {
     "data": {
      "text/plain": [
       "work (generic function with 1 method)"
      ]
     },
     "execution_count": 2,
     "metadata": {},
     "output_type": "execute_result"
    }
   ],
   "source": [
    "function work( a, b )\n",
    "    \n",
    "    c = a .* a .+ b\n",
    "    \n",
    "    return c\n",
    "\n",
    "end"
   ]
  },
  {
   "cell_type": "code",
   "execution_count": 5,
   "id": "b4f56d4b",
   "metadata": {
    "scrolled": true
   },
   "outputs": [
    {
     "name": "stdout",
     "output_type": "stream",
     "text": [
      "  9.067 μs (2 allocations: 78.17 KiB)\n"
     ]
    }
   ],
   "source": [
    "n = 10_000\n",
    "a = randn(n)\n",
    "b = randn(n)\n",
    "@btime work($a, $b);"
   ]
  },
  {
   "cell_type": "code",
   "execution_count": 6,
   "id": "3c634cfa",
   "metadata": {},
   "outputs": [
    {
     "data": {
      "text/plain": [
       "work! (generic function with 1 method)"
      ]
     },
     "execution_count": 6,
     "metadata": {},
     "output_type": "execute_result"
    }
   ],
   "source": [
    "function work!( c, a, b )\n",
    "    \n",
    "    c .= a .* a .+ b\n",
    "    \n",
    "    return c\n",
    "\n",
    "end"
   ]
  },
  {
   "cell_type": "code",
   "execution_count": 8,
   "id": "35cde67c",
   "metadata": {},
   "outputs": [
    {
     "name": "stdout",
     "output_type": "stream",
     "text": [
      "  4.686 μs (0 allocations: 0 bytes)\n"
     ]
    }
   ],
   "source": [
    "c = similar(a)\n",
    "\n",
    "@btime work!($c, $a, $b);"
   ]
  },
  {
   "cell_type": "code",
   "execution_count": null,
   "id": "3f7f60bd",
   "metadata": {},
   "outputs": [],
   "source": []
  }
 ],
 "metadata": {
  "kernelspec": {
   "display_name": "Julia 1.8.5",
   "language": "julia",
   "name": "julia-1.8"
  },
  "language_info": {
   "file_extension": ".jl",
   "mimetype": "application/julia",
   "name": "julia",
   "version": "1.8.5"
  }
 },
 "nbformat": 4,
 "nbformat_minor": 5
}
