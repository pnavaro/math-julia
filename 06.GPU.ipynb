{
 "cells": [
  {
   "cell_type": "markdown",
   "id": "57a0787c",
   "metadata": {},
   "source": [
    "# Installation"
   ]
  },
  {
   "cell_type": "code",
   "execution_count": null,
   "id": "33fe1189",
   "metadata": {},
   "outputs": [],
   "source": [
    "import Pkg; Pkg.activate(@__DIR__); Pkg.instantiate()"
   ]
  },
  {
   "cell_type": "code",
   "execution_count": null,
   "id": "e1654eba",
   "metadata": {},
   "outputs": [],
   "source": [
    "ENV[\"TMP\"] = \"/opt/app-root/src\""
   ]
  },
  {
   "cell_type": "code",
   "execution_count": null,
   "id": "14ebc5c7",
   "metadata": {},
   "outputs": [],
   "source": [
    "tempdir()"
   ]
  },
  {
   "cell_type": "code",
   "execution_count": null,
   "id": "f1988934",
   "metadata": {},
   "outputs": [],
   "source": [
    "using BenchmarkTools\n",
    "using CUDA\n",
    "using Random\n",
    "using Test\n",
    "using LinearAlgebra\n",
    "using ForwardDiff\n",
    "using ProgressMeter\n",
    "using Plots"
   ]
  },
  {
   "cell_type": "code",
   "execution_count": null,
   "id": "d8b1520c",
   "metadata": {},
   "outputs": [],
   "source": [
    "CUDA.version()"
   ]
  },
  {
   "cell_type": "markdown",
   "id": "e86766cc",
   "metadata": {},
   "source": [
    "Useful function to enable GPU version of your code"
   ]
  },
  {
   "cell_type": "code",
   "execution_count": null,
   "id": "4ac8693f",
   "metadata": {},
   "outputs": [],
   "source": [
    "CUDA.functional()"
   ]
  },
  {
   "cell_type": "code",
   "execution_count": null,
   "id": "b355a31a",
   "metadata": {},
   "outputs": [],
   "source": [
    "for device in CUDA.devices()\n",
    "    @show capability(device)\n",
    "    @show name(device)\n",
    "end"
   ]
  },
  {
   "cell_type": "markdown",
   "id": "349a6372",
   "metadata": {},
   "source": [
    "## Array programming"
   ]
  },
  {
   "cell_type": "markdown",
   "id": "5f419fb2",
   "metadata": {},
   "source": [
    "### Construction"
   ]
  },
  {
   "cell_type": "code",
   "execution_count": null,
   "id": "2363c2fc",
   "metadata": {},
   "outputs": [],
   "source": [
    "a = CuArray{Float32,2}(undef, 2, 2)"
   ]
  },
  {
   "cell_type": "code",
   "execution_count": null,
   "id": "1231e623",
   "metadata": {},
   "outputs": [],
   "source": [
    "similar(a)"
   ]
  },
  {
   "cell_type": "code",
   "execution_count": null,
   "id": "e38d7afa",
   "metadata": {},
   "outputs": [],
   "source": [
    "a = CuArray([1,2,3])"
   ]
  },
  {
   "cell_type": "markdown",
   "id": "10de3222",
   "metadata": {},
   "source": [
    "## Transfer to CPU\n",
    "\n",
    "b is allocated on the CPU, a data transfer is made"
   ]
  },
  {
   "cell_type": "code",
   "execution_count": null,
   "id": "9c219c01",
   "metadata": {},
   "outputs": [],
   "source": [
    "b = Array(a)"
   ]
  },
  {
   "cell_type": "code",
   "execution_count": null,
   "id": "7ad7a71c",
   "metadata": {},
   "outputs": [],
   "source": [
    "collect(a)"
   ]
  },
  {
   "cell_type": "markdown",
   "id": "6ed7b5f0",
   "metadata": {},
   "source": [
    "### API compatibilty with Base.Array"
   ]
  },
  {
   "cell_type": "code",
   "execution_count": null,
   "id": "39d203c7",
   "metadata": {},
   "outputs": [],
   "source": [
    "CUDA.ones(2)"
   ]
  },
  {
   "cell_type": "code",
   "execution_count": null,
   "id": "65d964c8",
   "metadata": {},
   "outputs": [],
   "source": [
    "a = CUDA.zeros(Float32, 2)"
   ]
  },
  {
   "cell_type": "code",
   "execution_count": null,
   "id": "c08d76e3",
   "metadata": {},
   "outputs": [],
   "source": [
    "a isa AbstractArray"
   ]
  },
  {
   "cell_type": "code",
   "execution_count": null,
   "id": "56afdec3",
   "metadata": {},
   "outputs": [],
   "source": [
    "CUDA.fill(42, (3,4))"
   ]
  },
  {
   "cell_type": "markdown",
   "id": "0e960b86",
   "metadata": {},
   "source": [
    "## Random numbers"
   ]
  },
  {
   "cell_type": "code",
   "execution_count": null,
   "id": "3716d83f",
   "metadata": {},
   "outputs": [],
   "source": [
    "CUDA.rand(2, 2)"
   ]
  },
  {
   "cell_type": "code",
   "execution_count": null,
   "id": "b956e04a",
   "metadata": {},
   "outputs": [],
   "source": [
    "CUDA.randn(2, 1)"
   ]
  },
  {
   "cell_type": "code",
   "execution_count": null,
   "id": "3cf6c26d",
   "metadata": {},
   "outputs": [],
   "source": [
    "x = CUDA.CuArray(0:0.01:1.0)\n",
    "nt = length(x)\n",
    "y = 0.2 .+ 0.5 .* x + 0.1 .* CUDA.randn(nt);\n",
    "scatter( Array(x), Array(y))\n",
    "plot!( x -> 0.2 + 0.5x)\n",
    "xlims!(0,1)\n",
    "ylims!(0,1)"
   ]
  },
  {
   "cell_type": "code",
   "execution_count": null,
   "id": "6f5045ff",
   "metadata": {},
   "outputs": [],
   "source": [
    "X = hcat(CUDA.ones(nt), x);"
   ]
  },
  {
   "cell_type": "code",
   "execution_count": null,
   "id": "8ed973a3",
   "metadata": {},
   "outputs": [],
   "source": [
    "β = X'X \\ X'y"
   ]
  },
  {
   "cell_type": "code",
   "execution_count": null,
   "id": "09066b51",
   "metadata": {},
   "outputs": [],
   "source": [
    "sum( ( β[1] .+ β[2] .* x .- y).^2 )"
   ]
  },
  {
   "cell_type": "code",
   "execution_count": null,
   "id": "cba6ef13",
   "metadata": {},
   "outputs": [],
   "source": [
    "a = CuArray([1 2 3])"
   ]
  },
  {
   "cell_type": "code",
   "execution_count": null,
   "id": "e8bf07e9",
   "metadata": {},
   "outputs": [],
   "source": [
    "view(a, 2:3)"
   ]
  },
  {
   "cell_type": "code",
   "execution_count": null,
   "id": "79ede3b3",
   "metadata": {
    "lines_to_next_cell": 2
   },
   "outputs": [],
   "source": [
    "a = CuArray{Float64}([1 2 3])\n",
    "b = CuArray{Float64}([4 5 6])\n",
    "\n",
    "map(a) do x\n",
    "    x + 1\n",
    "end"
   ]
  },
  {
   "cell_type": "code",
   "execution_count": null,
   "id": "91118007",
   "metadata": {
    "lines_to_next_cell": 2
   },
   "outputs": [],
   "source": [
    "reduce(+, a)"
   ]
  },
  {
   "cell_type": "code",
   "execution_count": null,
   "id": "4cb4f691",
   "metadata": {
    "lines_to_next_cell": 2
   },
   "outputs": [],
   "source": [
    "accumulate(+, b; dims=2)"
   ]
  },
  {
   "cell_type": "code",
   "execution_count": null,
   "id": "0a5564e6",
   "metadata": {
    "lines_to_next_cell": 2
   },
   "outputs": [],
   "source": [
    "findfirst(isequal(2), a)"
   ]
  },
  {
   "cell_type": "code",
   "execution_count": null,
   "id": "6eef826b",
   "metadata": {
    "lines_to_next_cell": 2
   },
   "outputs": [],
   "source": [
    "a = CuArray([1 2 3])\n",
    "b = CuArray([4 5 6])\n",
    "\n",
    "map(a) do x\n",
    "    x + 1\n",
    "end\n",
    "\n",
    "a .+ 2b\n",
    "\n",
    "reduce(+, a)\n",
    "\n",
    "accumulate(+, b; dims=2)\n",
    "\n",
    "findfirst(isequal(2), a)"
   ]
  },
  {
   "cell_type": "markdown",
   "id": "1dad6cd4",
   "metadata": {},
   "source": [
    "# CURAND"
   ]
  },
  {
   "cell_type": "code",
   "execution_count": null,
   "id": "35077432",
   "metadata": {},
   "outputs": [],
   "source": [
    "CUDA.rand!(a)"
   ]
  },
  {
   "cell_type": "markdown",
   "id": "cfafd821",
   "metadata": {},
   "source": [
    "# CUBLAS"
   ]
  },
  {
   "cell_type": "code",
   "execution_count": null,
   "id": "d5e479e2",
   "metadata": {},
   "outputs": [],
   "source": [
    "a * b'"
   ]
  },
  {
   "cell_type": "markdown",
   "id": "04d8b393",
   "metadata": {},
   "source": [
    "# CUSOLVER"
   ]
  },
  {
   "cell_type": "code",
   "execution_count": null,
   "id": "1123182c",
   "metadata": {},
   "outputs": [],
   "source": [
    "L, ipiv = CUDA.CUSOLVER.getrf!(a'b)\n",
    "CUDA.CUSOLVER.getrs!('N', L, ipiv, CUDA.ones(Float64, 3))"
   ]
  },
  {
   "cell_type": "markdown",
   "id": "148f13e0",
   "metadata": {},
   "source": [
    "# CUFFT"
   ]
  },
  {
   "cell_type": "code",
   "execution_count": null,
   "id": "104980e5",
   "metadata": {},
   "outputs": [],
   "source": [
    "fft = CUFFT.plan_fft(a) \n",
    "fft * a"
   ]
  },
  {
   "cell_type": "code",
   "execution_count": null,
   "id": "4c4ff5c8",
   "metadata": {},
   "outputs": [],
   "source": [
    "ifft = CUFFT.plan_ifft(a)\n",
    "real(ifft * (fft * a))"
   ]
  },
  {
   "cell_type": "markdown",
   "id": "3ccea275",
   "metadata": {},
   "source": [
    "# CUDDN"
   ]
  },
  {
   "cell_type": "code",
   "execution_count": null,
   "id": "71d93ec4",
   "metadata": {},
   "outputs": [],
   "source": [
    "CUDA.CUDNN.softmax(real(ans))"
   ]
  },
  {
   "cell_type": "markdown",
   "id": "93718c09",
   "metadata": {},
   "source": [
    "# CUSPARSE"
   ]
  },
  {
   "cell_type": "code",
   "execution_count": null,
   "id": "dab0c217",
   "metadata": {},
   "outputs": [],
   "source": [
    "CUDA.CUSPARSE.CuSparseMatrixCSR(a)"
   ]
  },
  {
   "cell_type": "markdown",
   "id": "c31af66b",
   "metadata": {},
   "source": [
    "## Workflow\n",
    "\n",
    "A typical approach for porting or developing an application for the GPU is as follows:\n",
    "\n",
    "1. develop an application using generic array functionality, and test it on the CPU with the Array type\n",
    "2. port your application to the GPU by switching to the CuArray type\n",
    "3. disallow the CPU fallback (\"scalar indexing\") to find operations that are not implemented for or incompatible with GPU execution\n",
    "4. (optional) use lower-level, CUDA-specific interfaces to implement missing functionality or optimize performance"
   ]
  },
  {
   "cell_type": "markdown",
   "id": "92e5335a",
   "metadata": {},
   "source": [
    "## Linear regression example"
   ]
  },
  {
   "cell_type": "code",
   "execution_count": null,
   "id": "24472c7b",
   "metadata": {},
   "outputs": [],
   "source": [
    "# squared error loss function\n",
    "loss(w, b, x, y) = sum(abs2, y - (w*x .+ b)) / size(y, 2)\n",
    "# get gradient w.r.t to `w`\n",
    "loss∇w(w, b, x, y) = ForwardDiff.gradient(w -> loss(w, b, x, y), w)\n",
    "# get derivative w.r.t to `b` (`ForwardDiff.derivative` is\n",
    "# used instead of `ForwardDiff.gradient` because `b` is\n",
    "# a scalar instead of an array)\n",
    "lossdb(w, b, x, y) = ForwardDiff.derivative(b -> loss(w, b, x, y), b)"
   ]
  },
  {
   "cell_type": "code",
   "execution_count": null,
   "id": "a9bba2b6",
   "metadata": {},
   "outputs": [],
   "source": [
    "# proximal gradient descent function\n",
    "function train(w, b, x, y; lr=0.1)\n",
    "    w -= lmul!(lr, loss∇w(w, b, x, y))\n",
    "    b -= lr * lossdb(w, b, x, y)\n",
    "    return w, b\n",
    "end"
   ]
  },
  {
   "cell_type": "code",
   "execution_count": null,
   "id": "c9100781",
   "metadata": {},
   "outputs": [],
   "source": [
    "function cpu_test(n = 1000, p = 100, iter = 100)\n",
    "    x = randn(n, p)'\n",
    "    y = sum(x[1:5,:]; dims=1) .+ randn(n)' * 0.1\n",
    "    w = 0.0001 * randn(1, p)\n",
    "    b = 0.0\n",
    "    for i = 1:iter\n",
    "       w, b = train(w, b, x, y)\n",
    "    end\n",
    "    return loss(w,b,x,y)\n",
    "end"
   ]
  },
  {
   "cell_type": "code",
   "execution_count": null,
   "id": "6ad09705",
   "metadata": {},
   "outputs": [],
   "source": [
    "@time cpu_test()"
   ]
  },
  {
   "cell_type": "markdown",
   "id": "399bbb87",
   "metadata": {},
   "source": [
    "### Moving to GPU"
   ]
  },
  {
   "cell_type": "code",
   "execution_count": null,
   "id": "95f34e46",
   "metadata": {},
   "outputs": [],
   "source": [
    "function gpu_test( n = 1000, p = 100, iter = 100)\n",
    "    x = randn(n, p)'\n",
    "    y = sum(x[1:5,:]; dims=1) .+ randn(n)' * 0.1\n",
    "    w = 0.0001 * randn(1, p)\n",
    "    b = 0.0\n",
    "    x = CuArray(x)\n",
    "    y = CuArray(y)\n",
    "    w = CuArray(w)\n",
    "    \n",
    "    for i = 1:iter\n",
    "       w, b = train(w, b, x, y)\n",
    "       \n",
    "    end\n",
    "    return loss(w,b,x,y)\n",
    "end"
   ]
  },
  {
   "cell_type": "code",
   "execution_count": null,
   "id": "95198462",
   "metadata": {},
   "outputs": [],
   "source": [
    "@time gpu_test()"
   ]
  },
  {
   "cell_type": "code",
   "execution_count": null,
   "id": "01f81990",
   "metadata": {},
   "outputs": [],
   "source": [
    "@btime cpu_test( 10000, 100, 100)"
   ]
  },
  {
   "cell_type": "code",
   "execution_count": null,
   "id": "48a7b9fd",
   "metadata": {},
   "outputs": [],
   "source": [
    "@btime gpu_test( 10000, 100, 100);"
   ]
  },
  {
   "cell_type": "markdown",
   "id": "72f5790f",
   "metadata": {},
   "source": [
    "# Custom Kernel"
   ]
  },
  {
   "cell_type": "markdown",
   "id": "68b978e0",
   "metadata": {},
   "source": [
    "- you cannot allocate memory, \n",
    "- I/O is disallowed, \n",
    "- badly-typed code will not compile. \n",
    "\n",
    "Keep kernels simple, and only incrementally port code while continuously verifying that it still compiles and executes as expected."
   ]
  },
  {
   "cell_type": "code",
   "execution_count": null,
   "id": "e572e990",
   "metadata": {},
   "outputs": [],
   "source": [
    "a = CUDA.zeros(1024)\n",
    "\n",
    "function kernel(a)\n",
    "    i = threadIdx().x\n",
    "    a[i] += 1\n",
    "    return\n",
    "end\n",
    "\n",
    "@cuda threads=length(a) kernel(a)"
   ]
  },
  {
   "cell_type": "code",
   "execution_count": null,
   "id": "053b6613",
   "metadata": {},
   "outputs": [],
   "source": [
    "a = CUDA.rand(Int, 1000)"
   ]
  },
  {
   "cell_type": "code",
   "execution_count": null,
   "id": "e4f647e0",
   "metadata": {
    "lines_to_next_cell": 2
   },
   "outputs": [],
   "source": [
    "norm(a)"
   ]
  },
  {
   "cell_type": "code",
   "execution_count": null,
   "id": "ae9c0f16",
   "metadata": {
    "lines_to_next_cell": 2
   },
   "outputs": [],
   "source": [
    "@btime norm($a)"
   ]
  },
  {
   "cell_type": "code",
   "execution_count": null,
   "id": "d10d5292",
   "metadata": {},
   "outputs": [],
   "source": [
    "@btime norm($(Array(a)))"
   ]
  },
  {
   "cell_type": "markdown",
   "id": "cf57ff36",
   "metadata": {},
   "source": [
    "The `norm` computation is much faster on the CPU"
   ]
  },
  {
   "cell_type": "code",
   "execution_count": null,
   "id": "ededec92",
   "metadata": {
    "lines_to_next_cell": 2
   },
   "outputs": [],
   "source": [
    "CUDA.allowscalar(false)"
   ]
  },
  {
   "cell_type": "code",
   "execution_count": null,
   "id": "f6495c75",
   "metadata": {},
   "outputs": [],
   "source": [
    "a = CuArray(1:9_999_999);"
   ]
  },
  {
   "cell_type": "code",
   "execution_count": null,
   "id": "8db8593f",
   "metadata": {},
   "outputs": [],
   "source": [
    "@time a .+ reverse(a);"
   ]
  },
  {
   "cell_type": "markdown",
   "id": "864cc985",
   "metadata": {},
   "source": [
    "You need two kernels to perfom this last computation. @time is not the right tool to evaluate the elasped time. The task is scheduled on the GPU device but not executed. It will be executed when you will fetch the result on the CPU."
   ]
  },
  {
   "cell_type": "code",
   "execution_count": null,
   "id": "74c800c4",
   "metadata": {},
   "outputs": [],
   "source": [
    "@time CUDA.@sync a .+ reverse(a);"
   ]
  },
  {
   "cell_type": "code",
   "execution_count": null,
   "id": "624912ef",
   "metadata": {},
   "outputs": [],
   "source": [
    "CUDA.@time a .+ reverse(a);"
   ]
  },
  {
   "cell_type": "code",
   "execution_count": null,
   "id": "e74d0b5a",
   "metadata": {},
   "outputs": [],
   "source": [
    "@btime CUDA.@sync $a .+ reverse($a);"
   ]
  },
  {
   "cell_type": "code",
   "execution_count": null,
   "id": "040a5cfd",
   "metadata": {
    "lines_to_next_cell": 2
   },
   "outputs": [],
   "source": [
    "@btime CUDA.@sync $(Array(a)) .+ reverse($(Array(a)));"
   ]
  },
  {
   "cell_type": "markdown",
   "id": "060e9509",
   "metadata": {
    "lines_to_next_cell": 2
   },
   "source": [
    "# NVIDIA Nsight Compute\n",
    "\n",
    "```bash\n",
    "$ nv-nsight-cu-cli --profile-from-start off julia\n",
    "```\n",
    "```julia-repl\n",
    "julia> CUDAdrv.@profile a .+ reverse(a)\n",
    "julia> exit()\n",
    "```\n",
    "\n",
    "```bash\n",
    "$ nsys launch julia\n",
    "```\n",
    "```julia-repl\n",
    "julia> CUDAdrv.@profile a .+ reverse(a)\n",
    "```"
   ]
  },
  {
   "cell_type": "markdown",
   "id": "c18712de",
   "metadata": {},
   "source": [
    "# Interactive development"
   ]
  },
  {
   "cell_type": "code",
   "execution_count": null,
   "id": "adaf5f6c",
   "metadata": {},
   "outputs": [],
   "source": [
    "kernel() = (@cuprintln(\"foo\"); return)"
   ]
  },
  {
   "cell_type": "code",
   "execution_count": null,
   "id": "3641b6a3",
   "metadata": {},
   "outputs": [],
   "source": [
    "@cuda kernel()"
   ]
  },
  {
   "cell_type": "code",
   "execution_count": null,
   "id": "a4d11ee7",
   "metadata": {},
   "outputs": [],
   "source": [
    "kernel() = (@cuprintln(\"bar\"); return)"
   ]
  },
  {
   "cell_type": "code",
   "execution_count": null,
   "id": "0ab6dafb",
   "metadata": {
    "lines_to_next_cell": 2
   },
   "outputs": [],
   "source": [
    "@cuda kernel()"
   ]
  },
  {
   "cell_type": "markdown",
   "id": "3e476a85",
   "metadata": {},
   "source": [
    "There is a significant overhead when you launch several kernels"
   ]
  },
  {
   "cell_type": "code",
   "execution_count": null,
   "id": "3c8b0b30",
   "metadata": {},
   "outputs": [],
   "source": [
    "a = CuArray(1:9_999_999)\n",
    "c = similar(a)\n",
    "c .= a .+ reverse(a);"
   ]
  },
  {
   "cell_type": "code",
   "execution_count": null,
   "id": "59fad9f6",
   "metadata": {},
   "outputs": [],
   "source": [
    "function vadd_reverse(c, a, b)\n",
    "    i = threadIdx().x\n",
    "    if i <= length(c)\n",
    "        @inbounds c[i] = a[i] + reverse(b)[i]\n",
    "    end\n",
    "    return\n",
    "end"
   ]
  },
  {
   "cell_type": "markdown",
   "id": "bcb5909e",
   "metadata": {
    "lines_to_next_cell": 2
   },
   "source": [
    "# Unsupported\n",
    "\n",
    "```julia\n",
    "@cuda threads = length(a) vadd_reverse(c, a, a)\n",
    "```\n",
    "will raise an error because some features are not supported on the GPU\n",
    "\n",
    "- Dynamic allocations\n",
    "- Garbage collection\n",
    "- Dynamic dispatch\n",
    "- Input/Output"
   ]
  },
  {
   "cell_type": "code",
   "execution_count": null,
   "id": "c79be43a",
   "metadata": {},
   "outputs": [],
   "source": [
    "function vadd_reverse(c, a, b)\n",
    "    \n",
    "    i = threadIdx().x\n",
    "    if i <= length(c)\n",
    "        @inbounds c[i] = a[i] + b[end - i + 1]\n",
    "    end\n",
    "    return\n",
    "end"
   ]
  },
  {
   "cell_type": "markdown",
   "id": "06e87c5c",
   "metadata": {},
   "source": [
    "The following expression will also raise an error because you can't loop over an array\n",
    "on GPU in the same way.\n",
    "```julia\n",
    "@cuda threads = length(a) vadd_reverse(c, a, a)\n",
    "```"
   ]
  },
  {
   "cell_type": "code",
   "execution_count": null,
   "id": "e43012e9",
   "metadata": {},
   "outputs": [],
   "source": [
    "attribute(device(), CUDA.DEVICE_ATTRIBUTE_MAX_THREADS_PER_BLOCK)"
   ]
  },
  {
   "cell_type": "code",
   "execution_count": null,
   "id": "a0423b00",
   "metadata": {},
   "outputs": [],
   "source": [
    "function vadd_reverse(c, a, b)\n",
    "    i = (blockIdx().x - 1) * blockDim().x + threadIdx().x\n",
    "    if i <= length(c)\n",
    "        @inbounds c[i] = a[i] + b[end - i + 1]\n",
    "    end\n",
    "    return\n",
    "end"
   ]
  },
  {
   "cell_type": "markdown",
   "id": "83f4154d",
   "metadata": {},
   "source": [
    "The kernel you built is twice faster "
   ]
  },
  {
   "cell_type": "code",
   "execution_count": null,
   "id": "734d3d47",
   "metadata": {},
   "outputs": [],
   "source": [
    "@btime CUDA.@sync @cuda threads=1024 blocks=length($a)÷1024+1 vadd_reverse($c, $a, $a)"
   ]
  },
  {
   "cell_type": "code",
   "execution_count": null,
   "id": "b55de33d",
   "metadata": {
    "lines_to_next_cell": 2
   },
   "outputs": [],
   "source": [
    "@btime CUDA.@sync $a .+ reverse($a);"
   ]
  },
  {
   "cell_type": "markdown",
   "id": "de9996a6",
   "metadata": {},
   "source": [
    "To adapt the code to your device, use this configurator function"
   ]
  },
  {
   "cell_type": "code",
   "execution_count": null,
   "id": "b71e73f3",
   "metadata": {},
   "outputs": [],
   "source": [
    "function configurator(kernel)\n",
    "    config = launch_configuration(kernel.fun)\n",
    "    threads = min(length(a), config.threads)\n",
    "    blocks = cld(length(a), threads)\n",
    "    return (threads=threads, blocks=blocks)\n",
    "end"
   ]
  },
  {
   "cell_type": "code",
   "execution_count": null,
   "id": "e4b7bde7",
   "metadata": {},
   "outputs": [],
   "source": [
    "@cuda config=configurator vadd_reverse(c, a, a)"
   ]
  },
  {
   "cell_type": "markdown",
   "id": "5391f4b6",
   "metadata": {},
   "source": [
    "# 12 Performance optimization\n",
    "\n",
    "- Avoid thread divergence\n",
    "- Reduce and coalesce global accesses\n",
    "- Improve occuancy, optimize launch configuration\n",
    "\n",
    "- Early-free array using CUDA.unsafe_free!\n",
    "- Annotate with @inbounds to avoid exception branches\n",
    "- Use Int32 and floating-point values"
   ]
  },
  {
   "cell_type": "code",
   "execution_count": null,
   "id": "d1d9a9df",
   "metadata": {},
   "outputs": [],
   "source": [
    "@device_code_llvm @cuda vadd_reverse(c, a, a)"
   ]
  },
  {
   "cell_type": "markdown",
   "id": "16b8420f",
   "metadata": {
    "lines_to_next_cell": 2
   },
   "source": [
    "# Cooperative groups\n",
    "\n",
    "https://devblogs.nvidia.com/cooperative-groups/\n",
    "\n",
    "```julia\n",
    "@cuda cooperative=true kernel(...)\n",
    "```\n",
    "\n",
    "# Shared memory\n",
    "\n",
    "https://devblogs.nvidia.com/using-shared-memory-cuda-cc/\n",
    "\n",
    "```julia\n",
    "a = @cuStaticSharedMem(Int, 64)\n",
    "```"
   ]
  },
  {
   "cell_type": "markdown",
   "id": "71bf5552",
   "metadata": {},
   "source": [
    "# Dynamic parallelism\n",
    "\n",
    "https://devblogs.nvidia.com/cuda-dynamic-parallelism-api-principles/\n",
    "\n",
    "@cuda dynamic=true kernel(...)"
   ]
  },
  {
   "cell_type": "markdown",
   "id": "9e9644e2",
   "metadata": {},
   "source": [
    "# Standard output\n",
    "\n",
    "```julia\n",
    "@cuprintln(\"Thread $(threadIdx().x)\")\n",
    "```"
   ]
  },
  {
   "cell_type": "markdown",
   "id": "4832a38b",
   "metadata": {},
   "source": [
    "# Atomics\n",
    "\n",
    "```julia\n",
    "@atomic a[...] += val\n",
    "```"
   ]
  },
  {
   "cell_type": "markdown",
   "id": "ac7c11dc",
   "metadata": {},
   "source": [
    "## GPU programming performance tips\n",
    "\n",
    "- Avoid thread divergence (https://cvw.cac.cornell.edu/gpu/thread_div)\n",
    "- Reduce and coalesce global accesses\n",
    "- Improve occupancy\n",
    "- Early-free arrays  `CuArrays.unsafe_free!` (https://juliagpu.gitlab.io/CUDA.jl/usage/memory/)\n",
    "- Annotate with `@inbounds`\n",
    "- Use 32 bits for float and integers"
   ]
  },
  {
   "cell_type": "code",
   "execution_count": null,
   "id": "595135ae",
   "metadata": {},
   "outputs": [],
   "source": []
  }
 ],
 "metadata": {
  "jupytext": {
   "cell_metadata_filter": "-all",
   "encoding": "# -*- coding: utf-8 -*-",
   "formats": "jl:light,ipynb"
  },
  "kernelspec": {
   "display_name": "Julia 1.5.3",
   "language": "julia",
   "name": "julia-1.5"
  }
 },
 "nbformat": 4,
 "nbformat_minor": 5
}
