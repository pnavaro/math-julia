{
 "cells": [
  {
   "cell_type": "markdown",
   "id": "731db61a",
   "metadata": {},
   "source": [
    "# Profiling\n",
    "\n",
    "Reference: https://plmlab.math.cnrs.fr/fabreges/julia-2019/"
   ]
  },
  {
   "cell_type": "code",
   "execution_count": 2,
   "id": "5ec22c7c",
   "metadata": {},
   "outputs": [],
   "source": [
    "import LinearAlgebra\n",
    "import Profile"
   ]
  },
  {
   "cell_type": "code",
   "execution_count": 3,
   "id": "5f3a0a6a",
   "metadata": {
    "scrolled": true
   },
   "outputs": [
    {
     "name": "stdout",
     "output_type": "stream",
     "text": [
      "Overhead ╎ [+additional indent] Count File:Line; Function\n",
      "=========================================================\n",
      "    ╎955  @Base/task.jl:484; (::IJulia.var\"#15#18\")()\n",
      "    ╎ 955  ...lia/src/eventloop.jl:8; eventloop(socket::ZMQ.Socket)\n",
      "    ╎  955  @Base/essentials.jl:726; invokelatest\n",
      "    ╎   955  @Base/essentials.jl:729; #invokelatest#2\n",
      "    ╎    955  ...execute_request.jl:67; execute_request(socket::ZMQ.S...\n",
      "    ╎     955  ...SoftGlobalScope.jl:65; softscope_include_string(m::...\n",
      "    ╎    ╎ 955  @Base/loading.jl:1428; include_string(mapexpr::typ...\n",
      "    ╎    ╎  955  @Base/boot.jl:368; eval\n",
      "    ╎2012 @Base/task.jl:634; task_done_hook(t::Task)\n",
      "    ╎ 2012 @Base/task.jl:930; wait()\n",
      "2011╎  2012 @Base/task.jl:921; poptask(W::Base.InvasiveLinked...\n",
      "    ╎1006 ...eadingconstructs.jl:258; (::Profile.var\"#3#4\")()\n",
      "    ╎ 1006 ...file/src/Profile.jl:39; profile_printing_listener()\n",
      "    ╎  1006 @Base/asyncevent.jl:155; wait\n",
      "    ╎   1006 @Base/asyncevent.jl:138; _trywait(t::Base.AsyncCondition)\n",
      "    ╎    1006 @Base/condition.jl:124; wait(c::Base.GenericConditio...\n",
      "    ╎     1006 @Base/task.jl:930; wait()\n",
      "1006╎    ╎ 1006 @Base/task.jl:921; poptask(W::Base.InvasiveLin...\n",
      "Total snapshots: 4024. Utilization: 25% across all threads and tasks. Use the `groupby` kwarg to break down by thread and/or task\n"
     ]
    }
   ],
   "source": [
    "begin\n",
    "    \n",
    "    \n",
    "\n",
    "    N = 10_000_000\n",
    "    x = rand(Float64, N)\n",
    "    y = rand(Float64, N)\n",
    "\n",
    "    niter = 10\n",
    "\n",
    "    Profile.clear()\n",
    "    @Profile.profile begin\n",
    "    for i=1:niter\n",
    "        C = LinearAlgebra.norm(y - x, 2)\n",
    "        global y += C * x\n",
    "    end\n",
    "    end\n",
    "\n",
    "    Profile.print(maxdepth=7)\n",
    "end"
   ]
  },
  {
   "cell_type": "code",
   "execution_count": 4,
   "id": "b9262ed9",
   "metadata": {},
   "outputs": [
    {
     "name": "stdout",
     "output_type": "stream",
     "text": [
      " Count  Overhead File                    Line Function\n",
      " =====  ======== ====                    ==== ========\n",
      "     2         0 @Base/int.jl              87 +\n",
      "     2         0 @Base/simdloop.jl         78 macro expansion\n",
      "     3         0 @Base/float.jl           384 -\n",
      "     5         0 @Base/float.jl           385 *\n",
      "     6         0 @Base/float.jl           383 +\n",
      "    14         0 @Base/broadcast.jl       670 _broadcast_getindex_evalf\n",
      "    14         0 @Base/broadcast.jl       643 _broadcast_getindex\n",
      "    32         0 @Base/boot.jl            459 Array\n",
      "    32         0 @Base/boot.jl            468 Array\n",
      "    32         0 @Base/boot.jl            476 Array\n",
      "    32         0 @Base/abstractarray.jl   841 similar\n",
      "    32         0 @Base/abstractarray.jl   840 similar\n",
      "    32         0 @Base/broadcast.jl       212 similar\n",
      "    32         0 @Base/broadcast.jl       211 similar\n",
      "   132         0 @Base/arraymath.jl        21 *(A::Float64, B::Vector{Float64})\n",
      "   149         0 @Base/array.jl           966 setindex!\n",
      "   154         0 In[4]                     12 macro expansion\n",
      "   154         0 @Base/arraymath.jl         8 -(A::Vector{Float64}, B::Vector...\n",
      "   165         0 @Base/broadcast.jl       667 _getindex\n",
      "   196         0 @Base/arraymath.jl        16 +(A::Vector{Float64}, Bs::Vecto...\n",
      "   285         0 @Base/array.jl           924 getindex\n",
      "   285         0 @Base/broadcast.jl       636 _broadcast_getindex\n",
      "   285         0 @Base/broadcast.jl       666 _getindex\n",
      "   285         0 @Base/broadcast.jl       642 _broadcast_getindex\n",
      "   299         0 @Base/broadcast.jl       597 getindex\n",
      "   328         0 In[4]                     13 macro expansion\n",
      "   448         0 @Base/broadcast.jl       961 macro expansion\n",
      "   448         0 @Base/simdloop.jl         77 macro expansion\n",
      "   450         0 @Base/broadcast.jl       960 copyto!\n",
      "   450         0 @Base/broadcast.jl       913 copyto!\n",
      "   482       482 @Base/task.jl            484 (::IJulia.var\"#15#18\")()\n",
      "   482         0 @Base/essentials.jl      729 #invokelatest#2\n",
      "   482         0 @Base/essentials.jl      726 invokelatest\n",
      "   482         0 ...ia/src/eventloop.jl     8 eventloop(socket::ZMQ.Socket)\n",
      "   482         0 .../execute_request.jl    67 execute_request(socket::ZMQ.Soc...\n",
      "   482         0 .../SoftGlobalScope.jl    65 softscope_include_string(m::Mod...\n",
      "   482         0 @Base/boot.jl            368 eval\n",
      "   482         0 @Base/loading.jl        1428 include_string(mapexpr::typeof(...\n",
      "   482         0 ...file/src/Profile.jl    27 macro expansion\n",
      "   482         0 In[4]                     10 top-level scope\n",
      "   482         0 @Base/broadcast.jl       885 copy\n",
      "   482         0 @Base/broadcast.jl       860 materialize\n",
      "   482         0 @Base/broadcast.jl       849 broadcast_preserving_zero_d\n",
      "  1554      1554 @Base/task.jl            634 task_done_hook(t::Task)\n",
      "  1554         0 @Base/task.jl            930 wait()\n",
      "  1554         0 @Base/task.jl            921 poptask(W::Base.InvasiveLinkedL...\n",
      "Total snapshots: 2072 (25% utilization across all threads and tasks. Use the `groupby` kwarg to break down by thread and/or task)\n"
     ]
    }
   ],
   "source": [
    "begin\n",
    "    \n",
    "    N = 10_000_000\n",
    "    x = rand(Float64, N)\n",
    "    y = rand(Float64, N)\n",
    "    \n",
    "    niter = 10\n",
    "    \n",
    "    Profile.clear()\n",
    "    @Profile.profile begin\n",
    "    for i=1:niter\n",
    "        C = LinearAlgebra.norm(y - x, 2)\n",
    "        global y += C * x\n",
    "    end\n",
    "    end\n",
    "    \n",
    "    Profile.print(format=:flat, sortedby=:count)\n",
    "    \n",
    "end"
   ]
  },
  {
   "cell_type": "markdown",
   "id": "948a79ca",
   "metadata": {},
   "source": [
    "## Memory storage\n",
    "\n",
    "Julia uses \"fortran\" storage for 2d array along columns"
   ]
  },
  {
   "cell_type": "code",
   "execution_count": 11,
   "id": "7931ed75",
   "metadata": {},
   "outputs": [
    {
     "name": "stdout",
     "output_type": "stream",
     "text": [
      "  1.288974 seconds (9 allocations: 352 bytes)\n"
     ]
    }
   ],
   "source": [
    "begin\n",
    "    function compute_dist!(x, dist)\n",
    "        N = length(x)\n",
    "        for i=1:N\n",
    "            for j=1:N\n",
    "                dist[i, j] = abs(x[i] - x[j])\n",
    "            end\n",
    "        end\n",
    "    end\n",
    "    \n",
    "    N = 10_000\n",
    "    x = rand(Float64, N)\n",
    "    dist = Array{Float64}(undef, (N, N))\n",
    "    \n",
    "    compute_dist!(x, dist)\n",
    "    @time compute_dist!(x, dist)\n",
    "end\n"
   ]
  },
  {
   "cell_type": "code",
   "execution_count": 12,
   "id": "cf91bf11",
   "metadata": {},
   "outputs": [
    {
     "name": "stdout",
     "output_type": "stream",
     "text": [
      "  0.086032 seconds (9 allocations: 352 bytes)\n"
     ]
    }
   ],
   "source": [
    "begin\n",
    "    function compute_dist!(x, dist)\n",
    "        N = length(x)\n",
    "        for j=1:N\n",
    "            @simd for i=1:N\n",
    "                dist[i, j] = abs(x[i] - x[j])\n",
    "            end\n",
    "        end\n",
    "    end\n",
    "    \n",
    "    N = 10_000\n",
    "    x = rand(Float64, N)\n",
    "    dist = Array{Float64}(undef, (N, N))\n",
    "    \n",
    "    compute_dist!(x, dist)\n",
    "    @time compute_dist!(x, dist)\n",
    "end"
   ]
  },
  {
   "cell_type": "code",
   "execution_count": 12,
   "id": "4a0f430a",
   "metadata": {},
   "outputs": [
    {
     "name": "stdout",
     "output_type": "stream",
     "text": [
      "  8.755449 seconds (350.00 M allocations: 5.215 GiB, 11.48% gc time)\n"
     ]
    }
   ],
   "source": [
    "N = 50_000_000\n",
    "a = 1.2\n",
    "x = rand(Float64, N)\n",
    "y = rand(Float64, N)\n",
    "\n",
    "@time for i in 1:N\n",
    "    @inbounds y[i] += a * x[i]\n",
    "end"
   ]
  },
  {
   "cell_type": "code",
   "execution_count": 15,
   "id": "c7026473",
   "metadata": {},
   "outputs": [
    {
     "name": "stdout",
     "output_type": "stream",
     "text": [
      "MethodInstance for axpy()\n",
      "  from axpy() in Main at In[15]:8\n",
      "Arguments\n",
      "  #self#\u001b[36m::Core.Const(axpy)\u001b[39m\n",
      "Locals\n",
      "  @_2\u001b[33m\u001b[1m::Union{Nothing, Tuple{Int64, Int64}}\u001b[22m\u001b[39m\n",
      "  val\u001b[36m::Float64\u001b[39m\n",
      "  i\u001b[36m::Int64\u001b[39m\n",
      "Body\u001b[36m::Nothing\u001b[39m\n",
      "\u001b[90m1 ─\u001b[39m %1  = (1:Main.N)\u001b[36m::Core.PartialStruct(UnitRange{Int64}, Any[Core.Const(1), Int64])\u001b[39m\n",
      "\u001b[90m│  \u001b[39m       (@_2 = Base.iterate(%1))\n",
      "\u001b[90m│  \u001b[39m %3  = (@_2 === nothing)\u001b[36m::Bool\u001b[39m\n",
      "\u001b[90m│  \u001b[39m %4  = Base.not_int(%3)\u001b[36m::Bool\u001b[39m\n",
      "\u001b[90m└──\u001b[39m       goto #4 if not %4\n",
      "\u001b[90m2 ┄\u001b[39m %6  = @_2\u001b[36m::Tuple{Int64, Int64}\u001b[39m\n",
      "\u001b[90m│  \u001b[39m       (i = Core.getfield(%6, 1))\n",
      "\u001b[90m│  \u001b[39m %8  = Core.getfield(%6, 2)\u001b[36m::Int64\u001b[39m\n",
      "\u001b[90m│  \u001b[39m       nothing\n",
      "\u001b[90m│  \u001b[39m %10 = Base.getindex(Main.y, i)\u001b[36m::Float64\u001b[39m\n",
      "\u001b[90m│  \u001b[39m %11 = Base.getindex(Main.x, i)\u001b[36m::Float64\u001b[39m\n",
      "\u001b[90m│  \u001b[39m %12 = (Main.a * %11)\u001b[36m::Float64\u001b[39m\n",
      "\u001b[90m│  \u001b[39m %13 = (%10 + %12)\u001b[36m::Float64\u001b[39m\n",
      "\u001b[90m│  \u001b[39m       Base.setindex!(Main.y, %13, i)\n",
      "\u001b[90m│  \u001b[39m       (val = %13)\n",
      "\u001b[90m│  \u001b[39m       nothing\n",
      "\u001b[90m│  \u001b[39m       val\n",
      "\u001b[90m│  \u001b[39m       (@_2 = Base.iterate(%1, %8))\n",
      "\u001b[90m│  \u001b[39m %19 = (@_2 === nothing)\u001b[36m::Bool\u001b[39m\n",
      "\u001b[90m│  \u001b[39m %20 = Base.not_int(%19)\u001b[36m::Bool\u001b[39m\n",
      "\u001b[90m└──\u001b[39m       goto #4 if not %20\n",
      "\u001b[90m3 ─\u001b[39m       goto #2\n",
      "\u001b[90m4 ┄\u001b[39m       return nothing\n",
      "\n"
     ]
    }
   ],
   "source": [
    "using InteractiveUtils\n",
    "\n",
    "N = 10\n",
    "a = 1.2\n",
    "x = rand(Float64, N)\n",
    "y = rand(Float64, N)\n",
    "\n",
    "function axpy()\n",
    "    for i in 1:N\n",
    "        @inbounds y[i] += a * x[i]\n",
    "    end\n",
    "end\n",
    "\n",
    "@code_warntype axpy()\n"
   ]
  },
  {
   "cell_type": "code",
   "execution_count": 16,
   "id": "be181a7a",
   "metadata": {},
   "outputs": [
    {
     "name": "stdout",
     "output_type": "stream",
     "text": [
      "  0.151305 seconds\n"
     ]
    }
   ],
   "source": [
    "let\n",
    "    N = 50_000_000\n",
    "    a = 1.2\n",
    "    x = rand(Float64, N)\n",
    "    y = rand(Float64, N)\n",
    "\n",
    "    @time for i in 1:N\n",
    "        @inbounds y[i] += a * x[i]\n",
    "    end\n",
    "end"
   ]
  },
  {
   "cell_type": "code",
   "execution_count": 19,
   "id": "50c36dff",
   "metadata": {},
   "outputs": [
    {
     "name": "stdout",
     "output_type": "stream",
     "text": [
      "  0.060045 seconds\n"
     ]
    }
   ],
   "source": [
    "\n",
    "N = 50_000_000\n",
    "a = 1.2\n",
    "x = rand(Float64, N)\n",
    "y = rand(Float64, N)\n",
    "\n",
    "function axpy!(a::Float64, x::Array{Float64}, y::Array{Float64})\n",
    "    for i in 1:length(x)\n",
    "        @inbounds y[i] += a * x[i]\n",
    "    end\n",
    "end\n",
    "\n",
    "# warmup\n",
    "axpy!(a, x, y)\n",
    "\n",
    "# timing\n",
    "@time axpy!(a, x, y)"
   ]
  },
  {
   "cell_type": "code",
   "execution_count": 20,
   "id": "49046533",
   "metadata": {},
   "outputs": [
    {
     "name": "stdout",
     "output_type": "stream",
     "text": [
      "MethodInstance for somme(::Matrix{Float64}, ::Int64)\n",
      "  from somme(x::Matrix{Float64}, dim::Int64) in Main at In[20]:3\n",
      "Arguments\n",
      "  #self#\u001b[36m::Core.Const(somme)\u001b[39m\n",
      "  x\u001b[36m::Matrix{Float64}\u001b[39m\n",
      "  dim\u001b[36m::Int64\u001b[39m\n",
      "Body\u001b[91m\u001b[1m::Union{Float64, Matrix{Float64}}\u001b[22m\u001b[39m\n",
      "\u001b[90m1 ─\u001b[39m %1  = (dim > 0)\u001b[36m::Bool\u001b[39m\n",
      "\u001b[90m└──\u001b[39m       goto #3 if not %1\n",
      "\u001b[90m2 ─\u001b[39m %3  = (:dims,)\u001b[36m::Core.Const((:dims,))\u001b[39m\n",
      "\u001b[90m│  \u001b[39m %4  = Core.apply_type(Core.NamedTuple, %3)\u001b[36m::Core.Const(NamedTuple{(:dims,)})\u001b[39m\n",
      "\u001b[90m│  \u001b[39m %5  = Core.tuple(dim)\u001b[36m::Tuple{Int64}\u001b[39m\n",
      "\u001b[90m│  \u001b[39m %6  = (%4)(%5)\u001b[36m::NamedTuple{(:dims,), Tuple{Int64}}\u001b[39m\n",
      "\u001b[90m│  \u001b[39m %7  = Core.kwfunc(Main.sum)\u001b[36m::Core.Const(Base.var\"#sum##kw\"())\u001b[39m\n",
      "\u001b[90m│  \u001b[39m %8  = (%7)(%6, Main.sum, x)\u001b[36m::Matrix{Float64}\u001b[39m\n",
      "\u001b[90m└──\u001b[39m       return %8\n",
      "\u001b[90m3 ─\u001b[39m %10 = Main.sum(x)\u001b[36m::Float64\u001b[39m\n",
      "\u001b[90m└──\u001b[39m       return %10\n",
      "\n"
     ]
    }
   ],
   "source": [
    "using InteractiveUtils\n",
    "\n",
    "function somme(x::Array{Float64, 2}, dim::Int64)\n",
    "    if(dim > 0)\n",
    "        return sum(x, dims=dim)\n",
    "    else\n",
    "        return sum(x)\n",
    "    end\n",
    "end\n",
    "\n",
    "N = 10\n",
    "x = ones(N, N)\n",
    "\n",
    "@code_warntype somme(x, 0)"
   ]
  },
  {
   "cell_type": "code",
   "execution_count": 26,
   "id": "2b9b8613",
   "metadata": {},
   "outputs": [
    {
     "name": "stdout",
     "output_type": "stream",
     "text": [
      "  0.057500 seconds (4 allocations: 128 bytes)\n"
     ]
    }
   ],
   "source": [
    "N = 50_000_000\n",
    "a = 1.2\n",
    "x = rand(Float64, N)\n",
    "y = rand(Float64, N)\n",
    "\n",
    "# warmup\n",
    "@. y += a * x\n",
    "\n",
    "# timing\n",
    "@time @. y += a * x;"
   ]
  },
  {
   "cell_type": "code",
   "execution_count": 1,
   "id": "f7d330ec",
   "metadata": {},
   "outputs": [
    {
     "name": "stdout",
     "output_type": "stream",
     "text": [
      "  0.721204 seconds (4 allocations: 762.936 MiB, 16.35% gc time)\n"
     ]
    },
    {
     "data": {
      "text/plain": [
       "49999800-element view(::Vector{Float64}, 101:49999900) with eltype Float64:\n",
       " 0.9658489623046363\n",
       " 1.123964221390209\n",
       " 2.9420081635204243\n",
       " 1.321540026708714\n",
       " 2.1148877441179392\n",
       " 2.1447056903288617\n",
       " 3.302557273467911\n",
       " 2.43665777785713\n",
       " 0.9122455824780733\n",
       " 1.497097968318496\n",
       " 1.5477294770833758\n",
       " 0.49830645650464067\n",
       " 0.47753771476557116\n",
       " ⋮\n",
       " 1.504530661267116\n",
       " 0.6759802016915673\n",
       " 3.1503238951143047\n",
       " 2.5850247257200003\n",
       " 2.7421438610175226\n",
       " 2.84226948477731\n",
       " 2.306577456667552\n",
       " 2.4508362574772162\n",
       " 1.5488522336253285\n",
       " 0.8025929855866992\n",
       " 1.3683234557280306\n",
       " 1.7760543078292006"
      ]
     },
     "execution_count": 1,
     "metadata": {},
     "output_type": "execute_result"
    }
   ],
   "source": [
    "const N = 50_000_000\n",
    "const a = 1.2\n",
    "const x = rand(Float64, N)\n",
    "const y = rand(Float64, N)\n",
    "\n",
    "const nn = 100\n",
    "const n_start = 1 + nn\n",
    "const n_end = N - nn\n",
    "\n",
    "# warmup\n",
    "@. y[n_start:n_end] += a * x[n_start:n_end]\n",
    "\n",
    "# timing\n",
    "@time @. y[n_start:n_end] += a * x[n_start:n_end]"
   ]
  },
  {
   "cell_type": "code",
   "execution_count": 22,
   "id": "43d61737",
   "metadata": {},
   "outputs": [
    {
     "ename": "LoadError",
     "evalue": "cannot declare N constant; it already has a value",
     "output_type": "error",
     "traceback": [
      "cannot declare N constant; it already has a value",
      "",
      "Stacktrace:",
      " [1] top-level scope",
      "   @ In[22]:1",
      " [2] eval",
      "   @ ./boot.jl:368 [inlined]",
      " [3] include_string(mapexpr::typeof(REPL.softscope), mod::Module, code::String, filename::String)",
      "   @ Base ./loading.jl:1428"
     ]
    }
   ],
   "source": [
    "const N = 50_000_000\n",
    "const a = 1.2\n",
    "const x = rand(Float64, N)\n",
    "const y = rand(Float64, N)\n",
    "\n",
    "const nn = 100\n",
    "const n_start = 1 + nn\n",
    "const n_end = N - nn\n",
    "\n",
    "# warmup\n",
    "@. @views y[n_start:n_end] += a * x[n_start:n_end]\n",
    "\n",
    "# timing\n",
    "@time @. @views y[n_start:n_end] += a * x[n_start:n_end]"
   ]
  },
  {
   "cell_type": "code",
   "execution_count": 23,
   "id": "77dc5936",
   "metadata": {},
   "outputs": [
    {
     "name": "stdout",
     "output_type": "stream",
     "text": [
      "  0.317545 seconds (27 allocations: 2.109 KiB)\n"
     ]
    }
   ],
   "source": [
    "N = 100_000_000\n",
    "a = 1.2\n",
    "x = rand(Float64, N)\n",
    "y = Array{Float64}(undef, N)\n",
    "\n",
    "function func!(a::Float64, x::Array{Float64}, y::Array{Float64})\n",
    "    @Threads.threads for i in 1:length(x)\n",
    "        y[i] = exp(a * x[i] * x[i])\n",
    "    end\n",
    "end\n",
    "\n",
    "# warmup\n",
    "func!(a, x, y)\n",
    "\n",
    "# timing\n",
    "@time func!(a, x, y)"
   ]
  },
  {
   "cell_type": "code",
   "execution_count": 24,
   "id": "f6573ff7",
   "metadata": {},
   "outputs": [
    {
     "data": {
      "text/plain": [
       "4"
      ]
     },
     "execution_count": 24,
     "metadata": {},
     "output_type": "execute_result"
    }
   ],
   "source": [
    "Threads.nthreads()"
   ]
  },
  {
   "cell_type": "markdown",
   "id": "526ea1eb",
   "metadata": {},
   "source": [
    "To get the performance of benchmarks with Julia, you just have to follow some rules:\n",
    "- Type the variables as much as possible!\n",
    "- Put the calculations in functions and pass the global variables as parameters of these functions.\n",
    "- Use the `const` keyword on global variables, when possible. \n",
    "- Use loops or vectorize calculations with the @ macro.\n",
    "- Avoid unnecessary copies by using the `@views` macro for operations on sub-tables."
   ]
  },
  {
   "cell_type": "code",
   "execution_count": null,
   "id": "b49e0fe4",
   "metadata": {},
   "outputs": [],
   "source": []
  }
 ],
 "metadata": {
  "@webio": {
   "lastCommId": null,
   "lastKernelId": null
  },
  "kernelspec": {
   "display_name": "Julia 1.8.5",
   "language": "julia",
   "name": "julia-1.8"
  },
  "language_info": {
   "file_extension": ".jl",
   "mimetype": "application/julia",
   "name": "julia",
   "version": "1.8.5"
  }
 },
 "nbformat": 4,
 "nbformat_minor": 5
}
