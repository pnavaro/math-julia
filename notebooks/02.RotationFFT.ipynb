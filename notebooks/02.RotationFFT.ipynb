{
 "cells": [
  {
   "cell_type": "markdown",
   "source": [
    "-*- coding: utf-8 -*-\n",
    "$$\n",
    "\\frac{d f}{dt} +  (v \\frac{d f}{dx} - x \\frac{d f}{dv}) = 0\n",
    "$$"
   ],
   "metadata": {}
  },
  {
   "cell_type": "markdown",
   "source": [
    "$$\n",
    "x \\in [-\\pi, \\pi],\\qquad y \\in [-\\pi, \\pi] \\qquad \\mbox{ and } \\qquad t \\in [0, 200\\pi]\n",
    "$$"
   ],
   "metadata": {}
  },
  {
   "outputs": [],
   "cell_type": "code",
   "source": [
    "using  FFTW\n",
    "using  LinearAlgebra\n",
    "using  Plots, ProgressMeter\n",
    "using  BenchmarkTools"
   ],
   "metadata": {},
   "execution_count": null
  },
  {
   "cell_type": "markdown",
   "source": [
    "## Mesh parameters (matlab code)\n",
    "\n",
    "```m\n",
    "Nx=128;Ny=256;\n",
    "xmin=-pi; xmax=pi;\n",
    "\n",
    "dx=(xmax-xmin)/Nx;\n",
    "x=xmin:dx:xmax-dx;\n",
    "\n",
    "ymin=-pi; ymax=pi;\n",
    "dy=(ymax-ymin)/Ny;\n",
    "y=ymin:dy:ymax-dy;\n",
    "```"
   ],
   "metadata": {}
  },
  {
   "cell_type": "markdown",
   "source": [
    "## Julia type for mesh information\n",
    "\n",
    "```jl\n",
    "struct Mesh\n",
    "    nx   :: Int\n",
    "    ny   :: Int\n",
    "    xmin :: Float64\n",
    "    xmax :: Float64\n",
    "    ymin :: Float64\n",
    "    ymax :: Float64\n",
    "    dx   :: Float64\n",
    "    dy   :: Float64\n",
    "    x    :: Vector{Float64}\n",
    "    y    :: Vector{Float64}\n",
    "end\n",
    "\n",
    "mesh = Mesh( 128, 256, -π, π, -π, π, 2π/128, 2π/256, ...)\n",
    "\n",
    "```"
   ],
   "metadata": {}
  },
  {
   "outputs": [],
   "cell_type": "code",
   "source": [
    "struct Mesh\n",
    "\n",
    "    nx   :: Int\n",
    "    ny   :: Int\n",
    "    xmin :: Float64\n",
    "    xmax :: Float64\n",
    "    ymin :: Float64\n",
    "    ymax :: Float64\n",
    "    dx   :: Float64\n",
    "    dy   :: Float64\n",
    "    x    :: Vector{Float64}\n",
    "    y    :: Vector{Float64}\n",
    "\n",
    "    function Mesh( xmin, xmax, nx, ymin, ymax, ny)\n",
    "        dx, dy = (xmax-xmin)/nx, (ymax-ymin)/ny\n",
    "        x = range(xmin, stop=xmax, length=nx+1)[1:end-1]  ## we remove the end point\n",
    "        y = range(ymin, stop=ymax, length=ny+1)[1:end-1]  ## periodic boundary condition\n",
    "        new( nx, ny, xmin, xmax, ymin, ymax, dx, dy, x, y)\n",
    "    end\n",
    "end\n",
    "\n",
    "mesh = Mesh(-π, π, 128, -π, π, 256)\n",
    "\n",
    "@show mesh.xmin, mesh.xmax, mesh.nx, mesh.dx"
   ],
   "metadata": {},
   "execution_count": null
  },
  {
   "cell_type": "markdown",
   "source": [
    "# Initialization of f : 2d array of double float\n",
    "\n",
    "```m\n",
    "f=zeros(Nx,Ny);\n",
    "for i=1:Nx\n",
    "    xx=xmin+(i-1)*dx;\n",
    "    for j=1:Ny\n",
    "        yy=ymin+(j-1)*dy;\n",
    "        f(i,j)=exp(-(xx-1)*(xx-1)/0.1)*exp(-(yy-1)*(yy-1)/0.1);\n",
    "    end\n",
    "end\n",
    "```"
   ],
   "metadata": {}
  },
  {
   "cell_type": "markdown",
   "source": [
    "```jl\n",
    "f = zeros(Float64,(mesh.nx,mesh.ny))\n",
    "\n",
    "for (i, x) in enumerate(mesh.x), (j, y) in enumerate(mesh.y)\n",
    "\n",
    "    f[i,j] = exp(-(x-1)*(x-1)/0.1)*exp(-(y-1)*(y-1)/0.1)\n",
    "\n",
    "end\n",
    "```"
   ],
   "metadata": {}
  },
  {
   "cell_type": "markdown",
   "source": [
    "### Julia function to compute exact solution"
   ],
   "metadata": {}
  },
  {
   "outputs": [],
   "cell_type": "code",
   "source": [
    "function exact(tf, mesh)\n",
    "\n",
    "    f = zeros(Float64,(mesh.nx, mesh.ny))\n",
    "    for (i, x) in enumerate(mesh.x), (j, y) in enumerate(mesh.y)\n",
    "        xn = cos(tf)*x - sin(tf)*y\n",
    "        yn = sin(tf)*x + cos(tf)*y\n",
    "        f[i,j] = exp(-(xn-1)*(xn-1)/0.1)*exp(-(yn-1)*(yn-1)/0.1)\n",
    "    end\n",
    "\n",
    "    f\n",
    "end\n",
    "\n",
    "f = exact(0.0, mesh)\n",
    "surface(f)"
   ],
   "metadata": {},
   "execution_count": null
  },
  {
   "cell_type": "markdown",
   "source": [
    "## Create the gif to show what we are computing"
   ],
   "metadata": {}
  },
  {
   "outputs": [],
   "cell_type": "code",
   "source": [
    "function create_gif()\n",
    "    x = y = range(-π, stop=π, length=40)\n",
    "    n = 100\n",
    "\n",
    "    prog = Progress(n,1) ## progress bar\n",
    "\n",
    "    @gif for t in range(0, stop=2π, length=n)\n",
    "        f(x,y) = exp(-((cos(t)*x-sin(t)*y)-1)^2/0.2)*exp(-((sin(t)*x+cos(t)*y)-1)^2/0.2)\n",
    "\n",
    "        p = plot(x, y, f, st = [:surface])\n",
    "\n",
    "        plot!(p[1])\n",
    "        plot!(zlims=(-0.01,1.01))\n",
    "\n",
    "        next!(prog) ## increment the progress bar\n",
    "    end\n",
    "end\n",
    "\n",
    "create_gif();"
   ],
   "metadata": {},
   "execution_count": null
  },
  {
   "cell_type": "markdown",
   "source": [
    "![](tmp.gif)"
   ],
   "metadata": {}
  },
  {
   "cell_type": "markdown",
   "source": [
    "## Advection and loop over time\n",
    "```m\n",
    "tf=200*pi;Nt=1000;dt=tf/Nt;\n",
    "kx=2*pi/(xmax-xmin)*[0:Nx/2-1,Nx/2-Nx:Nx-1-Nx];\n",
    "ky=2*pi/(ymax-ymin)*[0:Ny/2-1,Ny/2-Ny:Ny-1-Ny];\n",
    "\n",
    "fnx=zeros(1,Nx);ffx=zeros(1,Nx);fny=zeros(1,Ny);ffy=zeros(1,Ny);\n",
    "\n",
    "for n=1:Nt\n",
    "    for i=1:Nx\n",
    "        xx=xmin+(i-1)*dx;\n",
    "        ffy=fft(f(i,:));\n",
    "        fny=real(ifft(exp(sqrt(-1)*xx*ky*tan(dt/2)).*ffy));\n",
    "        f(i,:)=fny;\n",
    "    end\n",
    "\n",
    "    for j=1:Ny\n",
    "        yy=ymin+(j-1)*dy;\n",
    "        ffx=fft(f(:,j));\n",
    "        fnx=real(ifft(exp(-sqrt(-1)*yy*kx*sin(dt)).*transpose(ffx)));\n",
    "        f(:,j)=fnx;\n",
    "    end\n",
    "\n",
    "    for i=1:Nx\n",
    "        xx=xmin+(i-1)*dx;\n",
    "        ffy=fft(f(i,:));\n",
    "        fny=real(ifft(exp(sqrt(-1)*xx*ky*tan(dt/2)).*ffy));\n",
    "        f(i,:)=fny;\n",
    "    end\n",
    "end\n",
    "```"
   ],
   "metadata": {}
  },
  {
   "cell_type": "markdown",
   "source": [
    "## Function to compute error\n",
    "\n",
    "```m\n",
    "\n",
    "% compute errors in Linfty norm\n",
    "error1=max(max(f-f_exact))\n",
    "\n",
    "```\n",
    "\n",
    "- In julia the max value of an array is `maximum`."
   ],
   "metadata": {}
  },
  {
   "outputs": [],
   "cell_type": "code",
   "source": [
    "function error1(f, f_exact)\n",
    "    maximum(abs.(f .- f_exact))\n",
    "end"
   ],
   "metadata": {},
   "execution_count": null
  },
  {
   "cell_type": "markdown",
   "source": [
    "## Naive translation of the matlab code"
   ],
   "metadata": {}
  },
  {
   "outputs": [],
   "cell_type": "code",
   "source": [
    "function naive_from_matlab(tf, nt, mesh::Mesh)\n",
    "\n",
    "    dt = tf/nt\n",
    "\n",
    "    kx = 2π/(mesh.xmax-mesh.xmin)*[0:mesh.nx÷2-1;mesh.nx÷2-mesh.nx:-1]\n",
    "    ky = 2π/(mesh.ymax-mesh.ymin)*[0:mesh.ny÷2-1;mesh.ny÷2-mesh.ny:-1]\n",
    "\n",
    "    f = exact(0.0, mesh)\n",
    "\n",
    "    for n=1:nt\n",
    "\n",
    "       for (i, x) in enumerate(mesh.x)\n",
    "           f[i,:]=real(ifft(exp.(1im*x*ky*tan(dt/2)).*fft(f[i,:])))\n",
    "       end\n",
    "\n",
    "       for (j, y) in enumerate(mesh.y)\n",
    "           f[:,j]=real(ifft(exp.(-1im*y*kx*sin(dt)).*fft(f[:,j])))\n",
    "       end\n",
    "\n",
    "       for (i, x) in enumerate(mesh.x)\n",
    "           f[i,:]=real(ifft(exp.(1im*x*ky*tan(dt/2)).*fft(f[i,:])))\n",
    "       end\n",
    "   end\n",
    "\n",
    "    f\n",
    "end"
   ],
   "metadata": {},
   "execution_count": null
  },
  {
   "outputs": [],
   "cell_type": "code",
   "source": [
    "nt, tf = 1000, 200\n",
    "println( \" error = \", error1(naive_from_matlab(tf, nt, mesh), exact(tf, mesh)))\n",
    "@btime naive_from_matlab(tf, nt, mesh);"
   ],
   "metadata": {},
   "execution_count": null
  },
  {
   "cell_type": "markdown",
   "source": [
    "###  Vectorized version\n",
    "\n",
    "- We remove the for loops over direction x and y by creating the 2d arrays `exky` and `ekxy`.\n",
    "- We save cpu time by computing them before the loop over time"
   ],
   "metadata": {}
  },
  {
   "outputs": [],
   "cell_type": "code",
   "source": [
    "function vectorized(tf, nt, mesh::Mesh)\n",
    "\n",
    "    dt = tf/nt\n",
    "\n",
    "    kx = 2π/(mesh.xmax-mesh.xmin)*[0:mesh.nx÷2-1;mesh.nx÷2-mesh.nx:-1]\n",
    "    ky = 2π/(mesh.ymax-mesh.ymin)*[0:mesh.ny÷2-1;mesh.ny÷2-mesh.ny:-1]\n",
    "\n",
    "    f = exact(0.0, mesh)\n",
    "\n",
    "    exky = exp.( 1im*tan(dt/2) .* mesh.x  .* ky')\n",
    "    ekxy = exp.(-1im*sin(dt)   .* mesh.y' .* kx )\n",
    "\n",
    "    for n = 1:nt\n",
    "        f = real(ifft(exky .* fft(f, 2), 2))\n",
    "        f = real(ifft(ekxy .* fft(f, 1), 1))\n",
    "        f = real(ifft(exky .* fft(f, 2), 2))\n",
    "    end\n",
    "\n",
    "    f\n",
    "end"
   ],
   "metadata": {},
   "execution_count": null
  },
  {
   "outputs": [],
   "cell_type": "code",
   "source": [
    "nt, tf = 1000, 200\n",
    "println( \" error = \", error1(vectorized(tf, nt, mesh), exact(tf, mesh)))\n",
    "@btime vectorized(tf, nt, mesh);"
   ],
   "metadata": {},
   "execution_count": null
  },
  {
   "cell_type": "markdown",
   "source": [
    "## Inplace computation\n",
    "- We remove the Float64-Complex128 conversion by allocating the distribution function `f` as a Complex array\n",
    "- Note that we need to use the inplace assignement operator \".=\"  to initialize the `f` array.\n",
    "- We use inplace computation for fft with the \"bang\" operator `!`"
   ],
   "metadata": {}
  },
  {
   "outputs": [],
   "cell_type": "code",
   "source": [
    "function inplace(tf, nt, mesh::Mesh)\n",
    "\n",
    "    dt = tf/nt\n",
    "\n",
    "    kx = 2π/(mesh.xmax-mesh.xmin)*[0:mesh.nx÷2-1;mesh.nx÷2-mesh.nx:-1]\n",
    "    ky = 2π/(mesh.ymax-mesh.ymin)*[0:mesh.ny÷2-1;mesh.ny÷2-mesh.ny:-1]\n",
    "\n",
    "    f  = zeros(Complex{Float64},(mesh.nx,mesh.ny))\n",
    "    f .= exact(0.0, mesh)\n",
    "\n",
    "    exky = exp.( 1im*tan(dt/2) .* mesh.x  .* ky')\n",
    "    ekxy = exp.(-1im*sin(dt)   .* mesh.y' .* kx )\n",
    "\n",
    "    for n = 1:nt\n",
    "        fft!(f, 2)\n",
    "        f .= exky .* f\n",
    "        ifft!(f,2)\n",
    "        fft!(f, 1)\n",
    "        f .= ekxy .* f\n",
    "        ifft!(f, 1)\n",
    "        fft!(f, 2)\n",
    "        f .= exky .* f\n",
    "        ifft!(f,2)\n",
    "    end\n",
    "\n",
    "    real(f)\n",
    "end"
   ],
   "metadata": {},
   "execution_count": null
  },
  {
   "outputs": [],
   "cell_type": "code",
   "source": [
    "nt, tf = 1000, 200\n",
    "println( \" error = \", error1(inplace(tf, nt, mesh), exact(tf, mesh)))\n",
    "@btime inplace(tf, nt, mesh);"
   ],
   "metadata": {},
   "execution_count": null
  },
  {
   "cell_type": "markdown",
   "source": [
    "### Use plans for fft"
   ],
   "metadata": {}
  },
  {
   "cell_type": "markdown",
   "source": [
    "- When you apply multiple fft on array with same shape and size, it is recommended to use fftw plan to improve computations.\n",
    "- Let's try to initialize our two fft along x and y with plans."
   ],
   "metadata": {}
  },
  {
   "outputs": [],
   "cell_type": "code",
   "source": [
    "function with_fft_plans(tf, nt, mesh::Mesh)\n",
    "\n",
    "    dt = tf/nt\n",
    "\n",
    "    kx = 2π/(mesh.xmax-mesh.xmin)*[0:mesh.nx÷2-1;mesh.nx÷2-mesh.nx:-1]\n",
    "    ky = 2π/(mesh.ymax-mesh.ymin)*[0:mesh.ny÷2-1;mesh.ny÷2-mesh.ny:-1]\n",
    "\n",
    "    f  = zeros(Complex{Float64},(mesh.nx,mesh.ny))\n",
    "    f .= exact(0.0, mesh)\n",
    "    f̂  = similar(f)\n",
    "\n",
    "    exky = exp.( 1im*tan(dt/2) .* mesh.x  .* ky')\n",
    "    ekxy = exp.(-1im*sin(dt)   .* mesh.y' .* kx )\n",
    "\n",
    "    Px = plan_fft(f, 1)\n",
    "    Py = plan_fft(f, 2)\n",
    "\n",
    "    for n = 1:nt\n",
    "\n",
    "        f̂ .= Py * f\n",
    "        f̂ .= f̂  .* exky\n",
    "        f .= Py \\ f̂\n",
    "\n",
    "        f̂ .= Px * f\n",
    "        f̂ .= f̂  .* ekxy\n",
    "        f .= Px \\ f̂\n",
    "\n",
    "        f̂ .= Py * f\n",
    "        f̂ .= f̂  .* exky\n",
    "        f .= Py \\ f̂\n",
    "\n",
    "    end\n",
    "\n",
    "    real(f)\n",
    "end"
   ],
   "metadata": {},
   "execution_count": null
  },
  {
   "outputs": [],
   "cell_type": "code",
   "source": [
    "nt, tf = 1000, 200\n",
    "println( \" error = \", error1(with_fft_plans(tf, nt, mesh), exact(tf, mesh)))\n",
    "@btime with_fft_plans(tf, nt, mesh);"
   ],
   "metadata": {},
   "execution_count": null
  },
  {
   "cell_type": "markdown",
   "source": [
    "## Inplace computation and fft plans\n",
    "\n",
    "To apply fft plan to an array A, we use a preallocated output array Â by calling `mul!(Â, plan, A)`.\n",
    "The input array A must be a complex floating-point array like the output Â.\n",
    "The inverse-transform is computed inplace by applying `inv(P)` with `ldiv!(A, P, Â)`."
   ],
   "metadata": {}
  },
  {
   "outputs": [],
   "cell_type": "code",
   "source": [
    "function with_fft_plans_inplace(tf, nt, mesh::Mesh)\n",
    "\n",
    "    dt = tf/nt\n",
    "\n",
    "    kx = 2π/(mesh.xmax-mesh.xmin)*[0:mesh.nx÷2-1;mesh.nx÷2-mesh.nx:-1]\n",
    "    ky = 2π/(mesh.ymax-mesh.ymin)*[0:mesh.ny÷2-1;mesh.ny÷2-mesh.ny:-1]\n",
    "\n",
    "    f  = zeros(Complex{Float64},(mesh.nx,mesh.ny))\n",
    "    f .= exact(0.0, mesh)\n",
    "    f̂  = similar(f)\n",
    "\n",
    "    exky = exp.( 1im*tan(dt/2) .* mesh.x  .* ky')\n",
    "    ekxy = exp.(-1im*sin(dt)   .* mesh.y' .* kx )\n",
    "\n",
    "    Px = plan_fft(f, 1)\n",
    "    Py = plan_fft(f, 2)\n",
    "\n",
    "    for n = 1:nt\n",
    "\n",
    "        mul!(f̂, Py, f)\n",
    "        f̂ .= f̂ .* exky\n",
    "        ldiv!(f, Py, f̂)\n",
    "\n",
    "        mul!(f̂, Px, f)\n",
    "        f̂ .= f̂ .* ekxy\n",
    "        ldiv!(f, Px, f̂)\n",
    "\n",
    "        mul!(f̂, Py, f)\n",
    "        f̂ .= f̂ .* exky\n",
    "        ldiv!(f, Py, f̂)\n",
    "\n",
    "    end\n",
    "\n",
    "    real(f)\n",
    "end"
   ],
   "metadata": {},
   "execution_count": null
  },
  {
   "outputs": [],
   "cell_type": "code",
   "source": [
    "nt, tf = 1000, 200\n",
    "println( \" error = \", error1(with_fft_plans_inplace(tf, nt, mesh), exact(tf, mesh)))\n",
    "@btime with_fft_plans_inplace(tf, nt, mesh);"
   ],
   "metadata": {},
   "execution_count": null
  },
  {
   "cell_type": "markdown",
   "source": [
    "## Explicit transpose of `f`\n",
    "\n",
    "- Multidimensional arrays in Julia are stored in column-major order.\n",
    "- FFTs along y are slower than FFTs along x\n",
    "- We can speed-up the computation by allocating the transposed `f`\n",
    "and transpose f for each advection along y."
   ],
   "metadata": {}
  },
  {
   "outputs": [],
   "cell_type": "code",
   "source": [
    "function with_fft_transposed(tf, nt, mesh::Mesh)\n",
    "\n",
    "    dt = tf/nt\n",
    "\n",
    "    kx = 2π/(mesh.xmax-mesh.xmin)*[0:mesh.nx÷2-1;mesh.nx÷2-mesh.nx:-1]\n",
    "    ky = 2π/(mesh.ymax-mesh.ymin)*[0:mesh.ny÷2-1;mesh.ny÷2-mesh.ny:-1]\n",
    "\n",
    "    f  = zeros(Complex{Float64},(mesh.nx,mesh.ny))\n",
    "    f̂  = similar(f)\n",
    "    fᵗ = zeros(Complex{Float64},(mesh.ny,mesh.nx))\n",
    "    f̂ᵗ = similar(fᵗ)\n",
    "\n",
    "    exky = exp.( 1im*tan(dt/2) .* mesh.x' .* ky )\n",
    "    ekxy = exp.(-1im*sin(dt)   .* mesh.y' .* kx )\n",
    "\n",
    "    FFTW.set_num_threads(4)\n",
    "    Px = plan_fft(f,  1, flags=FFTW.PATIENT)\n",
    "    Py = plan_fft(fᵗ, 1, flags=FFTW.PATIENT)\n",
    "\n",
    "    f .= exact(0.0, mesh)\n",
    "\n",
    "    for n = 1:nt\n",
    "        transpose!(fᵗ,f)\n",
    "        mul!(f̂ᵗ, Py, fᵗ)\n",
    "        f̂ᵗ .= f̂ᵗ .* exky\n",
    "        ldiv!(fᵗ, Py, f̂ᵗ)\n",
    "        transpose!(f,fᵗ)\n",
    "\n",
    "        mul!(f̂, Px, f)\n",
    "        f̂ .= f̂ .* ekxy\n",
    "        ldiv!(f, Px, f̂)\n",
    "\n",
    "        transpose!(fᵗ,f)\n",
    "        mul!(f̂ᵗ, Py, fᵗ)\n",
    "        f̂ᵗ .= f̂ᵗ .* exky\n",
    "        ldiv!(fᵗ, Py, f̂ᵗ)\n",
    "        transpose!(f,fᵗ)\n",
    "    end\n",
    "    real(f)\n",
    "end"
   ],
   "metadata": {},
   "execution_count": null
  },
  {
   "outputs": [],
   "cell_type": "code",
   "source": [
    "nt, tf = 1000, 200\n",
    "println( \" error = \", error1(with_fft_transposed(tf, nt, mesh), exact(tf, mesh)))\n",
    "@btime with_fft_transposed(tf, nt, mesh);"
   ],
   "metadata": {},
   "execution_count": null
  },
  {
   "outputs": [],
   "cell_type": "code",
   "source": [
    "tf, nt = 400π, 1000\n",
    "mesh = Mesh(-π, π, 512, -π, π, 256)\n",
    "\n",
    "inplace_bench = @benchmark inplace(tf, nt, mesh)\n",
    "vectorized_bench = @benchmark vectorized(tf, nt, mesh)\n",
    "with_fft_plans_bench = @benchmark with_fft_plans(tf, nt, mesh)\n",
    "with_fft_plans_inplace_bench = @benchmark with_fft_plans_inplace(tf, nt, mesh)\n",
    "with_fft_transposed_bench = @benchmark with_fft_transposed(tf, nt, mesh)"
   ],
   "metadata": {},
   "execution_count": null
  },
  {
   "outputs": [],
   "cell_type": "code",
   "source": [
    "d = Dict()\n",
    "d[\"vectorized\"] = minimum(vectorized_bench.times) / 1e6\n",
    "d[\"inplace\"] = minimum(inplace_bench.times) / 1e6\n",
    "d[\"with_fft_plans\"] = minimum(with_fft_plans_bench.times) / 1e6\n",
    "d[\"with_fft_plans_inplace\"] = minimum(with_fft_plans_inplace_bench.times) / 1e6\n",
    "d[\"with_fft_transposed\"] = minimum(with_fft_transposed_bench.times) / 1e6;"
   ],
   "metadata": {},
   "execution_count": null
  },
  {
   "outputs": [],
   "cell_type": "code",
   "source": [
    "for (key, value) in sort(collect(d), by=last)\n",
    "    println(rpad(key, 25, \".\"), lpad(round(value, digits=1), 6, \".\"))\n",
    "end"
   ],
   "metadata": {},
   "execution_count": null
  },
  {
   "cell_type": "markdown",
   "source": [
    "## Conclusion\n",
    "- Use pre-allocations of memory and inplace computation are very important\n",
    "- Try to always do computation on data contiguous in memory\n",
    "- In this notebook, use btime to not taking account of time consumed in\n",
    "compilation."
   ],
   "metadata": {}
  },
  {
   "cell_type": "markdown",
   "source": [
    "---\n",
    "\n",
    "*This notebook was generated using [Literate.jl](https://github.com/fredrikekre/Literate.jl).*"
   ],
   "metadata": {}
  }
 ],
 "nbformat_minor": 3,
 "metadata": {
  "language_info": {
   "file_extension": ".jl",
   "mimetype": "application/julia",
   "name": "julia",
   "version": "1.7.1"
  },
  "kernelspec": {
   "name": "julia-1.7",
   "display_name": "Julia 1.7.1",
   "language": "julia"
  }
 },
 "nbformat": 4
}
