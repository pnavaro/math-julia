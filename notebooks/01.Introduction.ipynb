{
 "cells": [
  {
   "cell_type": "markdown",
   "source": [
    "-*- coding: utf-8 -*-\n",
    "![logo](https://julialang.org/v2/img/logo.svg)"
   ],
   "metadata": {}
  },
  {
   "cell_type": "markdown",
   "source": [
    "# Installation\n",
    "\n",
    "- Download for your plaform at http://julialang.org/downloads/\n",
    "\n",
    "- You can also try online via https://www.juliabox.com/ which provides hosted Julia notebooks on Google Cloud.\n",
    "\n",
    "- If you need corporate support, https://juliacomputing.com/products/juliapro.html provides a _batteries included_ installation of Julia. The company is run by some of the creators of the language and provides a single install with all of the most important add-ons.\n",
    "\n",
    "- Most Linux distributions come with Julia packages in their repositories. However, these may lag somewhat behind the current rather fast development cycle.\n",
    "\n",
    "- Notebooks are available on https://github.com/pnavaro/math-julia"
   ],
   "metadata": {}
  },
  {
   "cell_type": "markdown",
   "source": [
    "## Installing Julia on Linux\n",
    "\n",
    "Download the tar archive from https://julialang.org/downloads and rename the directory like so:\n",
    "```\n",
    "cd ~\n",
    "tar -xzf Downloads/julia-1.0.1-linux-x86_64.tar.gz\n",
    "```\n",
    "\n",
    "You may also want to add `julia` to your path\n",
    "\n",
    "```\n",
    "export PATH=$PATH:~/julia-1.0.1/bin\n",
    "echo 'export PATH=$PATH:~/julia-1.0.1/bin' >>~/.bash_profile\n",
    "```"
   ],
   "metadata": {}
  },
  {
   "cell_type": "markdown",
   "source": [
    "# Julia shell\n",
    "- Type julia in a terminal\n",
    "![julia shell](images/julia_prompt.png)"
   ],
   "metadata": {}
  },
  {
   "cell_type": "markdown",
   "source": [
    "- \"Tab\" for autocompletion\n",
    "- <code>pwd()</code> (Current directory)\n",
    "- <code>cd()</code> (Change directory),\n",
    "- <code>homedir()</code> (Home directory)\n",
    "- Use <code>;</code> to switch to unix shell.\n",
    "- <code>help(\"sin\")</code> ou <code>?sin</code> toggles the help mode."
   ],
   "metadata": {}
  },
  {
   "cell_type": "markdown",
   "source": [
    "## Run julia code.\n",
    "\n",
    "Julia programs use \".jl\" extension by convention and can be executed in the julia prompt with:\n",
    "```julia\n",
    "include(\"my_program.jl\")\n",
    "```\n",
    "- Julia is first translated into an intermediate representation.\n",
    "- Then LLVM compiles it for your machine.\n",
    "\n",
    "This means that\n",
    "- re-running the same code is faster the second time around\n",
    "- it runs at speeds comparable to compiled C or Fortran code"
   ],
   "metadata": {}
  },
  {
   "cell_type": "markdown",
   "source": [
    "# IDE\n",
    "\n",
    "- Julia shell\n",
    "- Command line : `julia my_program.jl`\n",
    "- Julia notebooks (Jupyter)\n",
    "- No dedicated IDE but plugins for existing tools.\n",
    "- IntellJ, Eclipse, PyCharm\n",
    "- [VS Code](https://github.com/JuliaEditorSupport/julia-vscode)\n",
    "- Atom and [Juno](http://junolab.org/)\n",
    "- [Sublime Text 3](https://github.com/quinnj/Sublime-IJulia)\n",
    "\n",
    "I personally use Jupyter for development but Atom seems to be the most used environment."
   ],
   "metadata": {}
  },
  {
   "cell_type": "markdown",
   "source": [
    "# Packages\n",
    "\n",
    "- Use <code>]</code> to switch to package manager.\n",
    "\n",
    "```\n",
    "pkg> add IJulia\n",
    "```\n",
    "\n",
    "will install the package. Type `help` to display all available commands.\n",
    "\n",
    "Use \"backspace\" to go back to the `julia` shell.\n",
    "\n",
    "https://pkg.julialang.org\n",
    "\n",
    "The package is installed in directory `~/.julia/`\n",
    "\n",
    "To import the package, type:\n",
    "```julia\n",
    "using IJulia\n",
    "```"
   ],
   "metadata": {}
  },
  {
   "cell_type": "markdown",
   "source": [
    "# Jupyter notebook\n",
    "\n",
    "The Jupyter Notebook is an open-source web application that allows you to create and share documents that contain live code, equations, visualizations and narrative text. Uses include: data cleaning and transformation, numerical simulation, statistical modeling, data visualization, machine learning, and much more.\n",
    "\n",
    "type:\n",
    "```julia\n",
    "using IJulia\n",
    "notebook()  # use notebook(detached=true)\n",
    "```\n",
    "\n",
    "To convert a notebook file `.ipynb` in julia program `.jl`:\n",
    "* In the top menu `File->Download as`\n",
    "* Command line : ```ipython nbconvert --to script my_notebook.ipynb```."
   ],
   "metadata": {}
  },
  {
   "cell_type": "markdown",
   "source": [
    "# Why Julia?\n",
    "\n",
    "- Increase the programmer productivity.\n",
    "- Python is a very nice language to code a prototype but i had to use Cython to make it faster. And had to\n",
    "code in Fortran if the code had to be deployed on HPC cluster\n",
    "- High-level languages like python and R let one explore and experiment rapidly, but can run slow.\n",
    "- Low-level languages like Fortran/C++ tend to take longer to develop, but run fast.\n",
    "- This is sometimes called the \"two language problem\" and is something the Julia developers set out to eliminate.\n",
    "- My code runs much faster than Python, and typically similar to Fortran.\n",
    "\n",
    "Julia provides a \"best of both worlds\" experience for programmers who need to develop novel algorithms and bring them into production environments with minimal effort."
   ],
   "metadata": {}
  },
  {
   "cell_type": "markdown",
   "source": [
    "# Julia features\n",
    "\n",
    "- High-level language for numerical computing.\n",
    "- Born in 2009 and version 1.0 was released in August 2018.\n",
    "- Dynamically-typed with optional types, feels like a scripting language, and has good support for interactive use.\n",
    "- Easy to learn for people that comes from R and Python.\n",
    "- Designed from the beginning to be fast as Fortran and C\n",
    "- Julia programs compile to efficient native code via [LLVM](https://llvm.org).\n",
    "- Designed for parallelism, and provides built-in primitives for parallel computing\n",
    "- can call C and Fortran libraries natively\n",
    "- can call Python libraries via PyCall package\n",
    "- can call R functions via RCall package"
   ],
   "metadata": {}
  },
  {
   "cell_type": "markdown",
   "source": [
    "# Julia is a language made for Science.\n",
    "\n",
    "http://www.stochasticlifestyle.com/some-state-of-the-art-packages-in-julia-v1-0\n",
    "\n",
    "Mathematics\n",
    "* JuliaDiff – Differentiation tools\n",
    "* JuliaDiffEq – Differential equation solving and analysis\n",
    "* JuliaGeometry – Computational Geometry\n",
    "* JuliaGraphs – Graph Theory and Implementation\n",
    "* JuliaIntervals - Rigorous numerics with interval arithmetic & applications\n",
    "* JuliaMath – Mathematics made easy in Julia\n",
    "* JuliaOpt – Optimization (Gitter)\n",
    "* JuliaPolyhedra – Polyhedral computation\n",
    "* JuliaSparse – Sparse matrix solvers\n",
    "\n",
    "Data Science\n",
    "* JuliaML – Machine Learning\n",
    "* JuliaStats – Statistics\n",
    "* JuliaImages – Image Processing\n",
    "* JuliaText – Natural Language Processing (NLP), Computational Linguistics and (textual) Information Retrieval\n",
    "* JuliaDatabases – Various database drivers for Julia\n",
    "* JuliaData – Data manipulation, storage, and I/O in Julia"
   ],
   "metadata": {}
  },
  {
   "cell_type": "markdown",
   "source": [
    "---\n",
    "\n",
    "*This notebook was generated using [Literate.jl](https://github.com/fredrikekre/Literate.jl).*"
   ],
   "metadata": {}
  }
 ],
 "nbformat_minor": 3,
 "metadata": {
  "language_info": {
   "file_extension": ".jl",
   "mimetype": "application/julia",
   "name": "julia",
   "version": "1.7.1"
  },
  "kernelspec": {
   "name": "julia-1.7",
   "display_name": "Julia 1.7.1",
   "language": "julia"
  }
 },
 "nbformat": 4
}
