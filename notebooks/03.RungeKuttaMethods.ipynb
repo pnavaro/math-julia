{
 "cells": [
  {
   "cell_type": "markdown",
   "source": [
    "-*- coding: utf-8 -*-\n",
    "# Runge-Kutta methods"
   ],
   "metadata": {}
  },
  {
   "outputs": [],
   "cell_type": "code",
   "source": [
    "using Plots\n",
    "gr()"
   ],
   "metadata": {},
   "execution_count": null
  },
  {
   "cell_type": "markdown",
   "source": [
    "We will implement in Julia different numerical methods to solve\n",
    "\n",
    "$$\n",
    "y'(t) = 1 - y(t)\n",
    "$$\n",
    "\n",
    "$ t \\in [0,5] \\qquad \\mbox{ and } \\qquad y(0) = 0 $"
   ],
   "metadata": {}
  },
  {
   "cell_type": "markdown",
   "source": [
    "## Explicit Euler"
   ],
   "metadata": {}
  },
  {
   "outputs": [],
   "cell_type": "code",
   "source": [
    "\"\"\"\n",
    "\n",
    "   euler(f::Function, t::Float64, y::Float64, h::Float64)\n",
    "\n",
    "explicit euler method function that returns\n",
    "\n",
    "$$\n",
    "y^{n+1} = y^n + h \\\\cdot f(t^n, y^n)\n",
    "$$\n",
    "\n",
    "\n",
    "\"\"\"\n",
    "function euler(f::Function, t::Float64, y::Float64, h::Float64)\n",
    "    t + h, y + h * f(t,y)\n",
    "end"
   ],
   "metadata": {},
   "execution_count": null
  },
  {
   "outputs": [],
   "cell_type": "code",
   "source": [
    "?euler"
   ],
   "metadata": {},
   "execution_count": null
  },
  {
   "cell_type": "markdown",
   "source": [
    "## Runge-Kutta 2nd order"
   ],
   "metadata": {}
  },
  {
   "outputs": [],
   "cell_type": "code",
   "source": [
    "\"\"\"\n",
    "\n",
    "   rk2(f::Function, t::Float64, y::Float64,  dt::Float64)\n",
    "\n",
    "Runge-Kutta second order method function\n",
    "\n",
    "```jldoctest\n",
    "julia> f(t,y) = 1 - y\n",
    "julia> rk2(f, 0.0, 0.0, 1.0)\n",
    "(1.0, 0.5)\n",
    "```\n",
    "\n",
    "\"\"\"\n",
    "function rk2(f::Function, t::Float64, y::Float64,  h::Float64)\n",
    "    ỹ = y + h/2 * f(t,y)\n",
    "    t + h, y + h * f(t+h/2,ỹ)\n",
    "end"
   ],
   "metadata": {},
   "execution_count": null
  },
  {
   "outputs": [],
   "cell_type": "code",
   "source": [
    "?rk2"
   ],
   "metadata": {},
   "execution_count": null
  },
  {
   "cell_type": "markdown",
   "source": [
    "## Runge-Kutta 4th order"
   ],
   "metadata": {}
  },
  {
   "outputs": [],
   "cell_type": "code",
   "source": [
    "\"\"\"\n",
    "\n",
    "   rk4(f::Function, t::Float64, y::Float64,  dt::Float64)\n",
    "\n",
    "Runge-Kutta fourth order method function\n",
    "\n",
    "[Runge–Kutta methods on Wikipedia](https://en.wikipedia.org/wiki/Runge–Kutta_methods)\n",
    "\n",
    "\"\"\"\n",
    "function rk4(f::Function, t::Float64, y::Float64,  dt::Float64)\n",
    "\n",
    "    y₁ = dt * f(t,y)\n",
    "    y₂ = dt * f(t+dt/2,y+y₁/2)\n",
    "    y₃ = dt * f(t+dt/2,y+y₂/2)\n",
    "    y₄ = dt * f(t+dt,y+y₃)\n",
    "\n",
    "    t+dt, y+(y₁+2*y₂+2*y₃+y₄)/6\n",
    "\n",
    "end"
   ],
   "metadata": {},
   "execution_count": null
  },
  {
   "outputs": [],
   "cell_type": "code",
   "source": [
    "?rk4"
   ],
   "metadata": {},
   "execution_count": null
  },
  {
   "cell_type": "markdown",
   "source": [
    "## Solver function"
   ],
   "metadata": {}
  },
  {
   "outputs": [],
   "cell_type": "code",
   "source": [
    "\"\"\"\n",
    "\n",
    "    solver(f::Function, Method::Function, t₀::Float64,\n",
    "                y₀::Float64, dt::Float64, nsteps::Int64)\n",
    "\n",
    "Solve numerically the equation ``y' = f(t, y)``\n",
    "\n",
    "with `y(t₀)= y₀` and `nsteps` steps `h`\n",
    "\n",
    "# Arguments\n",
    "- `f::Function`: the function `f` of equation ``y' = f(t,y)``.\n",
    "- `Method::Function`: numerical method from (tⁿ,yⁿ) returns ``(t^{n+1},y^{n+1})``\n",
    "\n",
    "\n",
    "\"\"\"\n",
    "function solver(f::Function,\n",
    "                Method::Function,\n",
    "                t₀::Float64,\n",
    "                y₀::Float64, h::Float64, nsteps::Int64)\n",
    "\n",
    "    t = zeros(Float64,nsteps)\n",
    "    y = similar(t)\n",
    "\n",
    "    t[1] = t₀\n",
    "    y[1] = y₀\n",
    "\n",
    "    for i in 2:nsteps\n",
    "       t[i], y[i] = Method(f,t[i-1],y[i-1], h)\n",
    "    end\n",
    "\n",
    "    t, y\n",
    "\n",
    "end"
   ],
   "metadata": {},
   "execution_count": null
  },
  {
   "outputs": [],
   "cell_type": "code",
   "source": [
    "?solver"
   ],
   "metadata": {},
   "execution_count": null
  },
  {
   "outputs": [],
   "cell_type": "code",
   "source": [
    "nsteps, tfinal   = 7, 5.0\n",
    "t₀, x₀ = 0., 0.\n",
    "\n",
    "dt = tfinal / (nsteps-1)\n",
    "f(t, x) = 1 - x"
   ],
   "metadata": {},
   "execution_count": null
  },
  {
   "outputs": [],
   "cell_type": "code",
   "source": [
    "plot( solver(f, euler, t₀, x₀, dt, nsteps); marker = :o, label=:euler)\n",
    "plot!(solver(f, rk2,   t₀, x₀, dt, nsteps); marker = :d, label=:rk2)\n",
    "plot!(solver(f, rk4,   t₀, x₀, dt, nsteps); marker = :p, label=:rk4)\n",
    "t = 0:0.1:5\n",
    "plot!(t, 1 .- exp.(-t); line = 3, label = :exact)"
   ],
   "metadata": {},
   "execution_count": null
  },
  {
   "cell_type": "markdown",
   "source": [
    "# Callable object\n",
    "\n",
    "We want to build a numerical method to solve the problem and then use it\n",
    "as a function and still call the solver function."
   ],
   "metadata": {}
  },
  {
   "cell_type": "markdown",
   "source": [
    "Runge-Kutta scheme can be built using Butcher tableau :\n",
    "\n",
    "\\begin{array}{c|cccc}\n",
    " c₁  &        &        &        &        \\\\\n",
    " c₂  & a_{21} &        &        &        \\\\\n",
    " c₃  & a_{31} & a_{32} &        &        \\\\\n",
    " c₄  & a_{41} & a_{42} & a_{43} &        \\\\\n",
    " \\hline\n",
    "     & b_1    & b_2    & b_3    & b_4    \\\\\n",
    "\\end{array}\n",
    "\n",
    "$$\n",
    "\\forall i = 1, \\dotsc, q, \\begin{cases}t_{n,i} &= t_n + c_i h_n, \\\\\n",
    "y_{n,i} &= y_n + h_n \\sum_{k = 1}^{i-1} a_{ik} p_{n,k}\\\\\n",
    "p_{n,i} &= f(t_{n,i}, y_{n,i}) \\end{cases}\n",
    "$$\n",
    "\n",
    "$$\n",
    "y_{n+1} = y_n + h_n \\sum_{k = 1}^q b_k p_{n,k}.\n",
    "$$"
   ],
   "metadata": {}
  },
  {
   "outputs": [],
   "cell_type": "code",
   "source": [
    "mutable struct RungeKutta\n",
    "\n",
    "    q :: Int64\n",
    "    a :: Array{Float64, 2}\n",
    "    b :: Array{Float64, 1}\n",
    "    c :: Array{Float64, 1}\n",
    "\n",
    "    tn :: Vector{Float64}\n",
    "    yn :: Vector{Float64}\n",
    "    pn :: Vector{Float64}\n",
    "\n",
    "    function RungeKutta( a::Array{Float64,2}, b::Vector{Float64}, c::Vector{Float64})\n",
    "\n",
    "        q = length(c)\n",
    "        @assert ( length(c) == size(a,1))\n",
    "        @assert ( length(b) == size(a,2))\n",
    "        tn = zeros(Float64, q)\n",
    "        yn = zeros(Float64, q)\n",
    "        pn = zeros(Float64, q)\n",
    "        new( q, a, b, c, tn, yn, pn)\n",
    "\n",
    "    end\n",
    "\n",
    "end\n",
    "\n",
    "function (rk::RungeKutta)(f::Function, t::Float64, y::Float64,  h::Float64)\n",
    "\n",
    "    for i = 1:rk.q\n",
    "        rk.tn[i] = t + rk.c[i] * h\n",
    "        rk.yn[i] = y + h * sum([rk.a[i,k]*rk.pn[k] for k = 1:i-1])\n",
    "        rk.pn[i] = f(rk.tn[i],rk.yn[i])\n",
    "    end\n",
    "\n",
    "    t + h, y + h * sum([rk.b[k]*rk.pn[k] for k in 1:rk.q ])\n",
    "\n",
    "end"
   ],
   "metadata": {},
   "execution_count": null
  },
  {
   "outputs": [],
   "cell_type": "code",
   "source": [
    "function solver(f::Function,\n",
    "                Method::RungeKutta,\n",
    "                t₀::Float64,\n",
    "                y₀::Float64, h::Float64, nsteps::Int64)\n",
    "\n",
    "    t = zeros(Float64,nsteps)\n",
    "    y = similar(t)\n",
    "\n",
    "    t[1] = t₀\n",
    "    y[1] = y₀\n",
    "\n",
    "    for i in 2:nsteps\n",
    "       t[i], y[i] = Method(f,t[i-1],y[i-1], h)\n",
    "    end\n",
    "\n",
    "    t, y\n",
    "\n",
    "end"
   ],
   "metadata": {},
   "execution_count": null
  },
  {
   "outputs": [],
   "cell_type": "code",
   "source": [
    "a = [ 0   0   0 0;\n",
    "      1/2 0   0 0;\n",
    "      0   1/2 0 0;\n",
    "      0   0   1 0]\n",
    "\n",
    "b = [1/6 ,1/3, 1/3, 1/6]\n",
    "c = [0   ,1/2, 1/2, 1  ]\n",
    "\n",
    "rk4_new = RungeKutta(a, b, c)"
   ],
   "metadata": {},
   "execution_count": null
  },
  {
   "outputs": [],
   "cell_type": "code",
   "source": [
    "t = 0:0.1:5\n",
    "plot(t, 1 .- exp.(-t),label = :exact)\n",
    "plot!(solver(f, rk4_new, t₀, x₀, dt, nsteps), marker = :o,  label=:rk4_new)"
   ],
   "metadata": {},
   "execution_count": null
  },
  {
   "outputs": [],
   "cell_type": "code",
   "source": [
    "a = [  0   0  0  0;\n",
    "     1/3   0  0  0;\n",
    "    -1/3   1  0  0;\n",
    "       1  -1  1  0]\n",
    "\n",
    "b = [1/8, 3/8, 3/8, 1/8]\n",
    "c = [0, 1/3,  2/3, 1]\n",
    "rk4_38 = RungeKutta(a, b, c)\n",
    "plot!(solver(f, rk4_38, t₀, x₀, dt, nsteps), marker = :r,  label=:rk4_38)"
   ],
   "metadata": {},
   "execution_count": null
  },
  {
   "cell_type": "markdown",
   "source": [
    "[Reference](https://www.juliabloggers.com/runge-kutta-methods/):Ordinary Differential Equation Solvers: Runge-Kutta Methods by Christina Lee"
   ],
   "metadata": {}
  },
  {
   "cell_type": "markdown",
   "source": [
    "# Creating expressions via interpolation\n",
    "\n",
    "Create a solver function with the method choosen at initialization."
   ],
   "metadata": {}
  },
  {
   "outputs": [],
   "cell_type": "code",
   "source": [
    "macro add(x, y)\n",
    "    return :($x + $y)\n",
    "end\n",
    "\n",
    "@add 2 3      ## or @add(2, 3)"
   ],
   "metadata": {},
   "execution_count": null
  },
  {
   "outputs": [],
   "cell_type": "code",
   "source": [
    "macro abs(x)\n",
    "    return :( $x > 0 ? $x : -$x)\n",
    "end\n",
    "@abs(-2), @abs(2)"
   ],
   "metadata": {},
   "execution_count": null
  },
  {
   "outputs": [],
   "cell_type": "code",
   "source": [
    "macro make_method( meth)\n",
    "    return quote\n",
    "        function (f::Function, t₀::Float64,\n",
    "                  x₀::Float64, dt::Float64, nsteps::Int64)\n",
    "\n",
    "            t = zeros(Float64,nsteps)\n",
    "            x = zeros(Float64,nsteps)\n",
    "\n",
    "            t[1] = t₀\n",
    "            x[1] = x₀\n",
    "\n",
    "            for i in 2:nsteps\n",
    "               t[i], x[i] = $meth(f,t[i-1],x[i-1], dt)\n",
    "            end\n",
    "\n",
    "            return t, x\n",
    "        end\n",
    "    end\n",
    "end\n",
    "\n",
    "rk4_solver = @make_method rk4\n",
    "\n",
    "plot(rk4_solver(f, t₀, x₀, dt, nsteps))"
   ],
   "metadata": {},
   "execution_count": null
  },
  {
   "cell_type": "markdown",
   "source": [
    "[DifferentialEquations.jl](http://docs.juliadiffeq.org/latest/)\n",
    "\n",
    "[ODE Solvers](http://docs.juliadiffeq.org/latest/solvers/ode_solve.html#OrdinaryDiffEq.jl-1)"
   ],
   "metadata": {}
  },
  {
   "outputs": [],
   "cell_type": "code",
   "source": [
    "using OrdinaryDiffEq\n",
    "using Plots\n",
    "\n",
    "\n",
    "f(y,p,t) = 1.0 - y\n",
    "y₀ = 0.0\n",
    "t  = (0.0,5.0)\n",
    "prob = ODEProblem(f,y₀,t)\n",
    "euler  = solve(prob,Euler(), dt=1.0)\n",
    "rk4  = solve(prob, RK4(), dt=1.0)\n",
    "plot(euler,label=\"Euler\")\n",
    "plot!(rk4,label=\"RK4\")\n",
    "plot!(1:0.1:5, t->1. - exp(-t),lw=3,ls=:dash,label=\"True Solution!\")"
   ],
   "metadata": {},
   "execution_count": null
  },
  {
   "outputs": [],
   "cell_type": "code",
   "source": [
    "using DifferentialEquations\n",
    "\n",
    "function lorenz(du,u,p,t)\n",
    " du[1] = 10.0*(u[2]-u[1])\n",
    " du[2] = u[1]*(28.0-u[3]) - u[2]\n",
    " du[3] = u[1]*u[2] - (8/3)*u[3]\n",
    "end"
   ],
   "metadata": {},
   "execution_count": null
  },
  {
   "outputs": [],
   "cell_type": "code",
   "source": [
    "u0 = [1.0;0.0;0.0]\n",
    "tspan = (0.0,100.0)\n",
    "prob = ODEProblem(lorenz,u0,tspan)\n",
    "sol = solve(prob)"
   ],
   "metadata": {},
   "execution_count": null
  },
  {
   "outputs": [],
   "cell_type": "code",
   "source": [
    "plot(sol,vars=(1,2,3))"
   ],
   "metadata": {},
   "execution_count": null
  },
  {
   "cell_type": "markdown",
   "source": [
    "----------------------------------------------------------------------------"
   ],
   "metadata": {}
  },
  {
   "cell_type": "markdown",
   "source": [
    "---\n",
    "\n",
    "*This notebook was generated using [Literate.jl](https://github.com/fredrikekre/Literate.jl).*"
   ],
   "metadata": {}
  }
 ],
 "nbformat_minor": 3,
 "metadata": {
  "language_info": {
   "file_extension": ".jl",
   "mimetype": "application/julia",
   "name": "julia",
   "version": "1.7.1"
  },
  "kernelspec": {
   "name": "julia-1.7",
   "display_name": "Julia 1.7.1",
   "language": "julia"
  }
 },
 "nbformat": 4
}
