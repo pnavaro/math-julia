{
 "cells": [
  {
   "cell_type": "markdown",
   "id": "3e2fde3f",
   "metadata": {},
   "source": [
    "# Poisson Equation\n",
    "\n",
    "$$\n",
    "\\frac{\\partial^2 u}{\\partial x^2} = b  \\qquad x \\in [0,1]\n",
    "$$\n",
    "\n",
    "$$\n",
    "u(0) = u(1) = 0, \\qquad b = \\sin(2\\pi x)\n",
    "$$"
   ]
  },
  {
   "cell_type": "code",
   "execution_count": null,
   "id": "0696ef18",
   "metadata": {},
   "outputs": [],
   "source": [
    "using Plots, BenchmarkTools"
   ]
  },
  {
   "cell_type": "code",
   "execution_count": null,
   "id": "c7fbbccb",
   "metadata": {},
   "outputs": [],
   "source": [
    "function plot_solution(x, u)\n",
    "    plot([0;x;1],[0;u;0], label=\"computed\")\n",
    "    scatter!([0;x;1],-sin.(2π*[0;x;1])/(4π^2),label=\"exact\")\n",
    "end"
   ]
  },
  {
   "cell_type": "code",
   "execution_count": null,
   "id": "e49c8b26",
   "metadata": {},
   "outputs": [],
   "source": [
    "Δx = 0.05\n",
    "x = Δx:Δx:1-Δx ## Solve only interior points: the endpoints are set to zero.\n",
    "N = length(x)"
   ]
  },
  {
   "cell_type": "code",
   "execution_count": null,
   "id": "cf64423b",
   "metadata": {},
   "outputs": [],
   "source": [
    "A = zeros(N,N)\n",
    "for i in 1:N, j in 1:N\n",
    "    abs(i-j) <= 1 && (A[i,j] +=1)\n",
    "    i==j          && (A[i,j] -=3)\n",
    "end"
   ]
  },
  {
   "cell_type": "code",
   "execution_count": null,
   "id": "51ce6140",
   "metadata": {},
   "outputs": [],
   "source": [
    "B = sin.(2π*x) * Δx^2\n",
    "u = A \\ B"
   ]
  },
  {
   "cell_type": "code",
   "execution_count": null,
   "id": "5929b16b",
   "metadata": {
    "lines_to_next_cell": 2
   },
   "outputs": [],
   "source": [
    "plot_solution(x, u)"
   ]
  },
  {
   "cell_type": "markdown",
   "id": "245be6c7",
   "metadata": {},
   "source": [
    "# SparseArrays"
   ]
  },
  {
   "cell_type": "code",
   "execution_count": null,
   "id": "0bb3cc28",
   "metadata": {},
   "outputs": [],
   "source": [
    "using SparseArrays"
   ]
  },
  {
   "cell_type": "code",
   "execution_count": null,
   "id": "4cbc38d7",
   "metadata": {},
   "outputs": [],
   "source": [
    "Δx = 0.05\n",
    "x = Δx:Δx:1-Δx ## Solve only interior points: the endpoints are set to zero.\n",
    "N = length(x)\n",
    "B = sin.(2π*x) * Δx^2"
   ]
  },
  {
   "cell_type": "code",
   "execution_count": null,
   "id": "c5d44c3b",
   "metadata": {},
   "outputs": [],
   "source": [
    "P = spdiagm( -1 =>    ones(Float64,N-1),\n",
    "              0 => -2*ones(Float64,N),\n",
    "              1 =>    ones(Float64,N-1))"
   ]
  },
  {
   "cell_type": "code",
   "execution_count": null,
   "id": "a603f3af",
   "metadata": {},
   "outputs": [],
   "source": [
    "u = P \\ B"
   ]
  },
  {
   "cell_type": "code",
   "execution_count": null,
   "id": "f050e388",
   "metadata": {
    "lines_to_next_cell": 2
   },
   "outputs": [],
   "source": [
    "plot_solution(x, u)"
   ]
  },
  {
   "cell_type": "markdown",
   "id": "4f4ef6a6",
   "metadata": {},
   "source": [
    "# LinearAlgebra"
   ]
  },
  {
   "cell_type": "code",
   "execution_count": null,
   "id": "2a2082fb",
   "metadata": {},
   "outputs": [],
   "source": [
    "using LinearAlgebra"
   ]
  },
  {
   "cell_type": "code",
   "execution_count": null,
   "id": "57c2249b",
   "metadata": {},
   "outputs": [],
   "source": [
    "Δx = 0.05\n",
    "x = Δx:Δx:1-Δx ## Solve only interior points: the endpoints are set to zero.\n",
    "N = length(x)\n",
    "B = sin.(2π*x) * Δx^2"
   ]
  },
  {
   "cell_type": "code",
   "execution_count": null,
   "id": "0c4d633b",
   "metadata": {},
   "outputs": [],
   "source": [
    "DU =  ones(Float64, N-1)\n",
    "D = -2ones(Float64, N)\n",
    "DL =  ones(Float64, N-1)"
   ]
  },
  {
   "cell_type": "code",
   "execution_count": null,
   "id": "569b16be",
   "metadata": {},
   "outputs": [],
   "source": [
    "T = Tridiagonal(DL, D, DU)"
   ]
  },
  {
   "cell_type": "code",
   "execution_count": null,
   "id": "466cbbca",
   "metadata": {},
   "outputs": [],
   "source": [
    "u = T \\ B"
   ]
  },
  {
   "cell_type": "code",
   "execution_count": null,
   "id": "d5153bc5",
   "metadata": {},
   "outputs": [],
   "source": [
    "plot_solution(x, u)\n",
    "#----------------------------------------------------------------------------"
   ]
  },
  {
   "cell_type": "markdown",
   "id": "390eca80",
   "metadata": {},
   "source": [
    "# LAPACK"
   ]
  },
  {
   "cell_type": "code",
   "execution_count": null,
   "id": "08cf48ba",
   "metadata": {},
   "outputs": [],
   "source": [
    "using LinearAlgebra"
   ]
  },
  {
   "cell_type": "code",
   "execution_count": null,
   "id": "72c0762b",
   "metadata": {},
   "outputs": [],
   "source": [
    "Δx = 0.05\n",
    "x = Δx:Δx:1-Δx ## Solve only interior points: the endpoints are set to zero.\n",
    "N = length(x)\n",
    "B = sin.(2π*x) * Δx^2"
   ]
  },
  {
   "cell_type": "code",
   "execution_count": null,
   "id": "ff8de0cb",
   "metadata": {},
   "outputs": [],
   "source": [
    "DU =   ones(Float64, N-1)\n",
    "D  = -2ones(Float64, N)\n",
    "DL =   ones(Float64, N-1)"
   ]
  },
  {
   "cell_type": "code",
   "execution_count": null,
   "id": "1b7baaeb",
   "metadata": {},
   "outputs": [],
   "source": [
    "LAPACK.gtsv!(DL, D, DU, B)"
   ]
  },
  {
   "cell_type": "code",
   "execution_count": null,
   "id": "975de198",
   "metadata": {},
   "outputs": [],
   "source": [
    "plot_solution(x, B)\n",
    "#----------------------------------------------------------------------------"
   ]
  },
  {
   "cell_type": "markdown",
   "id": "7678558e",
   "metadata": {},
   "source": [
    "# DIffEqOperators.jl\n",
    "\n",
    "[docs](http://docs.juliadiffeq.org/latest/features/diffeq_operator.html)"
   ]
  },
  {
   "cell_type": "code",
   "execution_count": null,
   "id": "fedf553b",
   "metadata": {},
   "outputs": [],
   "source": [
    "using DiffEqOperators\n",
    "#----------------------------------------------------------------------------"
   ]
  },
  {
   "cell_type": "code",
   "execution_count": null,
   "id": "ce62d12d",
   "metadata": {},
   "outputs": [],
   "source": [
    "Δx = 0.05\n",
    "x = Δx:Δx:1-Δx ## Solve only interior points: the endpoints are set to zero.\n",
    "N = length(x)\n",
    "B = sin.(2π*x)"
   ]
  },
  {
   "cell_type": "code",
   "execution_count": null,
   "id": "64e5f256",
   "metadata": {},
   "outputs": [],
   "source": [
    "## Second order approximation to the second derivative\n",
    "order = 2\n",
    "deriv = 2"
   ]
  },
  {
   "cell_type": "code",
   "execution_count": null,
   "id": "58180f8f",
   "metadata": {},
   "outputs": [],
   "source": [
    "A = DerivativeOperator{Float64}(order, deriv, Δx, N, :Dirichlet0,:Dirichlet0)"
   ]
  },
  {
   "cell_type": "code",
   "execution_count": null,
   "id": "65a0008d",
   "metadata": {},
   "outputs": [],
   "source": [
    "u = A \\ B"
   ]
  },
  {
   "cell_type": "code",
   "execution_count": null,
   "id": "71e593fc",
   "metadata": {},
   "outputs": [],
   "source": [
    "plot_solution(x, u)"
   ]
  },
  {
   "cell_type": "code",
   "execution_count": null,
   "id": "a3c5ac71",
   "metadata": {},
   "outputs": [],
   "source": []
  }
 ],
 "metadata": {
  "jupytext": {
   "cell_metadata_filter": "-all",
   "encoding": "# -*- coding: utf-8 -*-",
   "main_language": "julia",
   "notebook_metadata_filter": "-all"
  }
 },
 "nbformat": 4,
 "nbformat_minor": 5
}
