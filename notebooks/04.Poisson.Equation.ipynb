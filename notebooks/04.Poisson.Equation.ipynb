{
 "cells": [
  {
   "cell_type": "markdown",
   "source": [
    "-*- coding: utf-8 -*-\n",
    "# Poisson Equation\n",
    "\n",
    "$$\n",
    "\\frac{\\partial^2 u}{\\partial x^2} = b  \\qquad x \\in [0,1]\n",
    "$$\n",
    "\n",
    "$$\n",
    "u(0) = u(1) = 0, \\qquad b = \\sin(2\\pi x)\n",
    "$$"
   ],
   "metadata": {}
  },
  {
   "outputs": [],
   "cell_type": "code",
   "source": [
    "using Plots, BenchmarkTools\n",
    "\n",
    "function plot_solution(x, u)\n",
    "    plot([0;x;1],[0;u;0], label=\"computed\")\n",
    "    scatter!([0;x;1],-sin.(2π*[0;x;1])/(4π^2),label=\"exact\")\n",
    "end\n",
    "\n",
    "Δx = 0.05\n",
    "x = Δx:Δx:1-Δx ## Solve only interior points: the endpoints are set to zero.\n",
    "N = length(x)\n",
    "\n",
    "A = zeros(N,N)\n",
    "for i in 1:N, j in 1:N\n",
    "    abs(i-j) <= 1 && (A[i,j] +=1)\n",
    "    i==j          && (A[i,j] -=3)\n",
    "end\n",
    "\n",
    "B = sin.(2π*x) * Δx^2\n",
    "u = A \\ B\n",
    "\n",
    "plot_solution(x, u)"
   ],
   "metadata": {},
   "execution_count": null
  },
  {
   "cell_type": "markdown",
   "source": [
    "# SparseArrays"
   ],
   "metadata": {}
  },
  {
   "outputs": [],
   "cell_type": "code",
   "source": [
    "using SparseArrays\n",
    "\n",
    "Δx = 0.05\n",
    "x = Δx:Δx:1-Δx ## Solve only interior points: the endpoints are set to zero.\n",
    "N = length(x)\n",
    "B = sin.(2π*x) * Δx^2\n",
    "\n",
    "P = spdiagm( -1 =>    ones(Float64,N-1),\n",
    "              0 => -2*ones(Float64,N),\n",
    "              1 =>    ones(Float64,N-1))\n",
    "\n",
    "u = P \\ B\n",
    "\n",
    "plot_solution(x, u)"
   ],
   "metadata": {},
   "execution_count": null
  },
  {
   "cell_type": "markdown",
   "source": [
    "# LinearAlgebra"
   ],
   "metadata": {}
  },
  {
   "outputs": [],
   "cell_type": "code",
   "source": [
    "using LinearAlgebra\n",
    "\n",
    "Δx = 0.05\n",
    "x = Δx:Δx:1-Δx ## Solve only interior points: the endpoints are set to zero.\n",
    "N = length(x)\n",
    "B = sin.(2π*x) * Δx^2\n",
    "\n",
    "DU =  ones(Float64, N-1)\n",
    "D = -2ones(Float64, N)\n",
    "DL =  ones(Float64, N-1)\n",
    "\n",
    "T = Tridiagonal(DL, D, DU)\n",
    "\n",
    "u = T \\ B\n",
    "\n",
    "plot_solution(x, u)"
   ],
   "metadata": {},
   "execution_count": null
  },
  {
   "cell_type": "markdown",
   "source": [
    "# LAPACK"
   ],
   "metadata": {}
  },
  {
   "outputs": [],
   "cell_type": "code",
   "source": [
    "using LinearAlgebra\n",
    "\n",
    "Δx = 0.05\n",
    "x = Δx:Δx:1-Δx ## Solve only interior points: the endpoints are set to zero.\n",
    "N = length(x)\n",
    "B = sin.(2π*x) * Δx^2\n",
    "\n",
    "DU =   ones(Float64, N-1)\n",
    "D  = -2ones(Float64, N)\n",
    "DL =   ones(Float64, N-1)\n",
    "\n",
    "LAPACK.gtsv!(DL, D, DU, B)\n",
    "\n",
    "plot_solution(x, B)"
   ],
   "metadata": {},
   "execution_count": null
  },
  {
   "cell_type": "markdown",
   "source": [
    "# DIffEqOperators.jl\n",
    "\n",
    "[docs](http://docs.juliadiffeq.org/latest/features/diffeq_operator.html)"
   ],
   "metadata": {}
  },
  {
   "outputs": [],
   "cell_type": "code",
   "source": [
    "using DiffEqOperators"
   ],
   "metadata": {},
   "execution_count": null
  },
  {
   "outputs": [],
   "cell_type": "code",
   "source": [
    "Δx = 0.05\n",
    "x = Δx:Δx:1-Δx ## Solve only interior points: the endpoints are set to zero.\n",
    "N = length(x)\n",
    "B = sin.(2π*x)\n",
    "\n",
    "# Second order approximation to the second derivative\n",
    "order = 2\n",
    "deriv = 2\n",
    "\n",
    "A = DerivativeOperator{Float64}(order, deriv, Δx, N, :Dirichlet0,:Dirichlet0)\n",
    "\n",
    "u = A \\ B\n",
    "\n",
    "plot_solution(x, u)"
   ],
   "metadata": {},
   "execution_count": null
  },
  {
   "cell_type": "markdown",
   "source": [
    "---\n",
    "\n",
    "*This notebook was generated using [Literate.jl](https://github.com/fredrikekre/Literate.jl).*"
   ],
   "metadata": {}
  }
 ],
 "nbformat_minor": 3,
 "metadata": {
  "language_info": {
   "file_extension": ".jl",
   "mimetype": "application/julia",
   "name": "julia",
   "version": "1.7.1"
  },
  "kernelspec": {
   "name": "julia-1.7",
   "display_name": "Julia 1.7.1",
   "language": "julia"
  }
 },
 "nbformat": 4
}
