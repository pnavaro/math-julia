{
 "cells": [
  {
   "cell_type": "markdown",
   "id": "db330ac4",
   "metadata": {},
   "source": [
    "# Profiling\n",
    "\n",
    "Reference: https://plmlab.math.cnrs.fr/fabreges/julia-2019/\n"
   ]
  },
  {
   "cell_type": "code",
   "execution_count": null,
   "id": "c1e3f79e",
   "metadata": {},
   "outputs": [],
   "source": [
    "import LinearAlgebra\n",
    "import Profile"
   ]
  },
  {
   "cell_type": "code",
   "execution_count": null,
   "id": "64750195",
   "metadata": {},
   "outputs": [],
   "source": [
    "begin\n",
    "    \n",
    "    \n",
    "\n",
    "    N = 10_000_000\n",
    "    x = rand(Float64, N)\n",
    "    y = rand(Float64, N)\n",
    "\n",
    "    niter = 10\n",
    "\n",
    "    Profile.clear()\n",
    "    @Profile.profile begin\n",
    "    for i=1:niter\n",
    "        C = LinearAlgebra.norm(y - x, 2)\n",
    "        global y += C * x\n",
    "    end\n",
    "    end\n",
    "\n",
    "    Profile.print(maxdepth=7)\n",
    "end"
   ]
  },
  {
   "cell_type": "code",
   "execution_count": null,
   "id": "2f2f5f78",
   "metadata": {},
   "outputs": [],
   "source": [
    "begin\n",
    "    \n",
    "    N = 10_000_000\n",
    "    x = rand(Float64, N)\n",
    "    y = rand(Float64, N)\n",
    "    \n",
    "    niter = 10\n",
    "    \n",
    "    Profile.clear()\n",
    "    @Profile.profile begin\n",
    "    for i=1:niter\n",
    "        C = LinearAlgebra.norm(y - x, 2)\n",
    "        global y += C * x\n",
    "    end\n",
    "    end\n",
    "    \n",
    "    Profile.print(format=:flat, sortedby=:count)\n",
    "    \n",
    "end"
   ]
  },
  {
   "cell_type": "markdown",
   "id": "303a8b31",
   "metadata": {},
   "source": [
    "## Memory storage\n",
    "\n",
    "Julia uses \"fortran\" storage for 2d array along columns\n"
   ]
  },
  {
   "cell_type": "code",
   "execution_count": null,
   "id": "9d894ba0",
   "metadata": {},
   "outputs": [],
   "source": [
    "begin\n",
    "    function compute_dist!(x, dist)\n",
    "        N = length(x)\n",
    "        for i=1:N\n",
    "            for j=1:N\n",
    "                dist[i, j] = abs(x[i] - x[j])\n",
    "            end\n",
    "        end\n",
    "    end\n",
    "    \n",
    "    N = 10_000\n",
    "    x = rand(Float64, N)\n",
    "    dist = Array{Float64}(undef, (N, N))\n",
    "    \n",
    "    compute_dist!(x, dist)\n",
    "    @time compute_dist!(x, dist)\n",
    "end"
   ]
  },
  {
   "cell_type": "code",
   "execution_count": null,
   "id": "2719fb11",
   "metadata": {},
   "outputs": [],
   "source": [
    "begin\n",
    "    function compute_dist!(x, dist)\n",
    "        N = length(x)\n",
    "        for j=1:N\n",
    "            @simd for i=1:N\n",
    "                dist[i, j] = abs(x[i] - x[j])\n",
    "            end\n",
    "        end\n",
    "    end\n",
    "    \n",
    "    N = 10_000\n",
    "    x = rand(Float64, N)\n",
    "    dist = Array{Float64}(undef, (N, N))\n",
    "    \n",
    "    compute_dist!(x, dist)\n",
    "    @time compute_dist!(x, dist)\n",
    "end"
   ]
  },
  {
   "cell_type": "code",
   "execution_count": null,
   "id": "0c03913c",
   "metadata": {},
   "outputs": [],
   "source": [
    "N = 50_000_000\n",
    "a = 1.2\n",
    "x = rand(Float64, N)\n",
    "y = rand(Float64, N)\n",
    "\n",
    "@time for i in 1:N\n",
    "    @inbounds y[i] += a * x[i]\n",
    "end"
   ]
  },
  {
   "cell_type": "code",
   "execution_count": null,
   "id": "7f40d3ec",
   "metadata": {},
   "outputs": [],
   "source": [
    "using InteractiveUtils\n",
    "\n",
    "N = 10\n",
    "a = 1.2\n",
    "x = rand(Float64, N)\n",
    "y = rand(Float64, N)\n",
    "\n",
    "function axpy()\n",
    "    for i in 1:N\n",
    "        @inbounds y[i] += a * x[i]\n",
    "    end\n",
    "end\n",
    "\n",
    "@code_warntype axpy()"
   ]
  },
  {
   "cell_type": "code",
   "execution_count": null,
   "id": "98acbb22",
   "metadata": {},
   "outputs": [],
   "source": [
    "let\n",
    "    N = 50_000_000\n",
    "    a = 1.2\n",
    "    x = rand(Float64, N)\n",
    "    y = rand(Float64, N)\n",
    "\n",
    "    @time for i in 1:N\n",
    "        @inbounds y[i] += a * x[i]\n",
    "    end\n",
    "end"
   ]
  },
  {
   "cell_type": "code",
   "execution_count": null,
   "id": "eb5a5f29",
   "metadata": {},
   "outputs": [],
   "source": [
    "N = 50_000_000\n",
    "a = 1.2\n",
    "x = rand(Float64, N)\n",
    "y = rand(Float64, N)\n",
    "\n",
    "function axpy!(a::Float64, x::Array{Float64}, y::Array{Float64})\n",
    "    for i in 1:length(x)\n",
    "        @inbounds y[i] += a * x[i]\n",
    "    end\n",
    "end\n",
    "\n",
    "# warmup\n",
    "axpy!(a, x, y)\n",
    "\n",
    "# timing\n",
    "@time axpy!(a, x, y)"
   ]
  },
  {
   "cell_type": "code",
   "execution_count": null,
   "id": "67b084fa",
   "metadata": {},
   "outputs": [],
   "source": [
    "using InteractiveUtils\n",
    "\n",
    "function somme(x::Array{Float64, 2}, dim::Int64)\n",
    "    if(dim > 0)\n",
    "        return sum(x, dims=dim)\n",
    "    else\n",
    "        return sum(x)\n",
    "    end\n",
    "end\n",
    "\n",
    "N = 10\n",
    "x = ones(N, N)\n",
    "\n",
    "@code_warntype somme(x, 0)"
   ]
  },
  {
   "cell_type": "code",
   "execution_count": null,
   "id": "604c8f22",
   "metadata": {},
   "outputs": [],
   "source": [
    "N = 50_000_000\n",
    "a = 1.2\n",
    "x = rand(Float64, N)\n",
    "y = rand(Float64, N)\n",
    "\n",
    "# warmup\n",
    "@. y += a * x\n",
    "\n",
    "# timing\n",
    "@time @. y += a * x;"
   ]
  },
  {
   "cell_type": "code",
   "execution_count": null,
   "id": "ab440dff",
   "metadata": {},
   "outputs": [],
   "source": [
    "const N = 50_000_000\n",
    "const a = 1.2\n",
    "const x = rand(Float64, N)\n",
    "const y = rand(Float64, N)\n",
    "\n",
    "const nn = 100\n",
    "const n_start = 1 + nn\n",
    "const n_end = N - nn\n",
    "\n",
    "# warmup\n",
    "@. y[n_start:n_end] += a * x[n_start:n_end]\n",
    "\n",
    "# timing\n",
    "@time @. y[n_start:n_end] += a * x[n_start:n_end]"
   ]
  },
  {
   "cell_type": "code",
   "execution_count": null,
   "id": "8ec8edc6",
   "metadata": {},
   "outputs": [],
   "source": [
    "const N = 50_000_000\n",
    "const a = 1.2\n",
    "const x = rand(Float64, N)\n",
    "const y = rand(Float64, N)\n",
    "\n",
    "const nn = 100\n",
    "const n_start = 1 + nn\n",
    "const n_end = N - nn\n",
    "\n",
    "# warmup\n",
    "@. @views y[n_start:n_end] += a * x[n_start:n_end]\n",
    "\n",
    "# timing\n",
    "@time @. @views y[n_start:n_end] += a * x[n_start:n_end]"
   ]
  },
  {
   "cell_type": "code",
   "execution_count": null,
   "id": "a443fa62",
   "metadata": {},
   "outputs": [],
   "source": [
    "N = 100_000_000\n",
    "a = 1.2\n",
    "x = rand(Float64, N)\n",
    "y = Array{Float64}(undef, N)\n",
    "\n",
    "function func!(a::Float64, x::Array{Float64}, y::Array{Float64})\n",
    "    @Threads.threads for i in 1:length(x)\n",
    "        y[i] = exp(a * x[i] * x[i])\n",
    "    end\n",
    "end\n",
    "\n",
    "# warmup\n",
    "func!(a, x, y)\n",
    "\n",
    "# timing\n",
    "@time func!(a, x, y)"
   ]
  },
  {
   "cell_type": "code",
   "execution_count": null,
   "id": "83b32678",
   "metadata": {},
   "outputs": [],
   "source": [
    "Threads.nthreads()"
   ]
  },
  {
   "cell_type": "markdown",
   "id": "40aa789e",
   "metadata": {},
   "source": [
    "To get the performance of benchmarks with Julia, you just have to follow some rules:\n",
    "- Type the variables as much as possible!\n",
    "- Put the calculations in functions and pass the global variables as parameters of these functions.\n",
    "- Use the `const` keyword on global variables, when possible. \n",
    "- Use loops or vectorize calculations with the @ macro.\n",
    "- Avoid unnecessary copies by using the `@views` macro for operations on sub-tables.\n"
   ]
  }
 ],
 "metadata": {
  "jupytext": {
   "formats": "ipynb,qmd"
  },
  "kernelspec": {
   "display_name": "Julia 1.8.5",
   "language": "julia",
   "name": "julia-1.8"
  },
  "language_info": {
   "file_extension": ".jl",
   "mimetype": "application/julia",
   "name": "julia",
   "version": "1.8.5"
  }
 },
 "nbformat": 4,
 "nbformat_minor": 5
}
