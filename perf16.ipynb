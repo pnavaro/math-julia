{
  "cells": [
    {
      "cell_type": "raw",
      "metadata": {},
      "source": [
        "---\n",
        "title: \"Performance Annotations: @fastmath @inbounds @simd\"\n",
        "format: revealjs\n",
        "---"
      ],
      "id": "7f8a9d2f"
    },
    {
      "cell_type": "code",
      "metadata": {},
      "source": [
        "function new_sum(myvec::Vector{Int})\n",
        "    s = zero(eltype(myvec))\n",
        "    for i = eachindex(myvec)\n",
        "        s += myvec[i]\n",
        "    end\n",
        "    return s\n",
        "end\n",
        "\n",
        "function new_sum_inbounds(myvec::Vector{Int})\n",
        "    s = zero(eltype(myvec))\n",
        "    @inbounds for i = eachindex(myvec)\n",
        "        s += myvec[i]\n",
        "    end\n",
        "    return s\n",
        "end"
      ],
      "id": "3414a356",
      "execution_count": null,
      "outputs": []
    },
    {
      "cell_type": "code",
      "metadata": {},
      "source": [
        "using BenchmarkTools\n",
        "\n",
        "myvec = collect(1:1000000)\n",
        "@btime new_sum($myvec)\n",
        "@btime new_sum_inbounds($myvec)"
      ],
      "id": "23d03de8",
      "execution_count": null,
      "outputs": []
    },
    {
      "cell_type": "markdown",
      "metadata": {},
      "source": [
        "---\n",
        "\n",
        "::::: {.columns}\n",
        ":::: {.column width=\"50%\"}"
      ],
      "id": "be60dec4"
    },
    {
      "cell_type": "code",
      "metadata": {},
      "source": [
        "@noinline function inner(x, y)\n",
        "    s = zero(eltype(x))\n",
        "    for i = eachindex(x, y)\n",
        "        @inbounds s += x[i]*y[i]\n",
        "    end\n",
        "    return s\n",
        "end;"
      ],
      "id": "6e6e55e4",
      "execution_count": null,
      "outputs": []
    },
    {
      "cell_type": "markdown",
      "metadata": {},
      "source": [
        ":::: \n",
        ":::: {.column width=\"50%\"}"
      ],
      "id": "5ef57bc5"
    },
    {
      "cell_type": "code",
      "metadata": {},
      "source": [
        "@noinline function innersimd(x, y)\n",
        "    s = zero(eltype(x))\n",
        "    @simd for i = eachindex(x, y)\n",
        "        @inbounds s += x[i] * y[i]\n",
        "    end\n",
        "    return s\n",
        "end;"
      ],
      "id": "bd17b5c9",
      "execution_count": null,
      "outputs": []
    },
    {
      "cell_type": "raw",
      "metadata": {},
      "source": [
        ":::: \n",
        ":::::\n",
        "\n",
        "---"
      ],
      "id": "c9854555"
    },
    {
      "cell_type": "code",
      "metadata": {},
      "source": [
        "function timeit(n, reps)\n",
        "    x = rand(Float32, n)\n",
        "    y = rand(Float32, n)\n",
        "    s = zero(Float64)\n",
        "    time = @elapsed for j in 1:reps\n",
        "        s += inner(x, y)\n",
        "    end\n",
        "    println(\"GFlop/sec        = \", 2n*reps / time*1E-9)\n",
        "    time = @elapsed for j in 1:reps\n",
        "        s += innersimd(x, y)\n",
        "    end\n",
        "    println(\"GFlop/sec (SIMD) = \", 2n*reps / time*1E-9)\n",
        "end\n",
        "timeit(10, 10)\n",
        "timeit(1000, 1000)"
      ],
      "id": "cb29e08d",
      "execution_count": null,
      "outputs": []
    },
    {
      "cell_type": "markdown",
      "metadata": {},
      "source": [
        "---\n"
      ],
      "id": "bef0f3ce"
    },
    {
      "cell_type": "code",
      "metadata": {},
      "source": [
        "function init!(u::Vector)\n",
        "    n = length(u)\n",
        "    dx = 1.0 / (n-1)\n",
        "    @fastmath @inbounds @simd for i in eachindex(u) \n",
        "        u[i] = sin(2pi*dx*i)\n",
        "    end\n",
        "end\n",
        "\n",
        "function deriv!(u::Vector, du)\n",
        "    n = length(u)\n",
        "    dx = 1.0 / (n-1)\n",
        "    @fastmath @inbounds du[1] = (u[2] - u[1]) / dx\n",
        "    @fastmath @inbounds @simd for i in 2:n-1\n",
        "        du[i] = (u[i+1] - u[i-1]) / (2*dx)\n",
        "    end\n",
        "    @fastmath @inbounds du[n] = (u[n] - u[n-1]) / dx\n",
        "end"
      ],
      "id": "a0ae4ac3",
      "execution_count": null,
      "outputs": []
    },
    {
      "cell_type": "raw",
      "metadata": {},
      "source": [
        "---"
      ],
      "id": "42b36e5e"
    },
    {
      "cell_type": "code",
      "metadata": {},
      "source": [
        "function mynorm(u::Vector)\n",
        "    T = eltype(u)\n",
        "    s = zero(T)\n",
        "    @fastmath @inbounds @simd for i in eachindex(u)\n",
        "        s += u[i]^2\n",
        "    end\n",
        "    @fastmath @inbounds return sqrt(s)\n",
        "end"
      ],
      "id": "f0338963",
      "execution_count": null,
      "outputs": []
    },
    {
      "cell_type": "markdown",
      "metadata": {},
      "source": [
        "---\n"
      ],
      "id": "498aedbf"
    },
    {
      "cell_type": "code",
      "metadata": {},
      "source": [
        "function main(n)\n",
        "    u = Vector{Float64}(undef, n)\n",
        "    init!(u)\n",
        "    du = similar(u)\n",
        "\n",
        "    deriv!(u, du)\n",
        "    nu = mynorm(du)\n",
        "\n",
        "    @time for i in 1:10^6\n",
        "        deriv!(u, du)\n",
        "        nu = mynorm(du)\n",
        "    end\n",
        "\n",
        "    println(\" nu = $nu \")\n",
        "end\n",
        "\n",
        "main(10)\n",
        "@time main(2000)"
      ],
      "id": "ac56cbee",
      "execution_count": null,
      "outputs": []
    },
    {
      "cell_type": "raw",
      "metadata": {},
      "source": [
        "---"
      ],
      "id": "81fb309f"
    },
    {
      "cell_type": "code",
      "metadata": {},
      "source": [
        "run(`julia --math-mode=ieee wave.jl`)"
      ],
      "id": "81b28586",
      "execution_count": null,
      "outputs": []
    }
  ],
  "metadata": {
    "kernelspec": {
      "name": "julia-1.8",
      "language": "julia",
      "display_name": "Julia 1.8.5"
    }
  },
  "nbformat": 4,
  "nbformat_minor": 5
}